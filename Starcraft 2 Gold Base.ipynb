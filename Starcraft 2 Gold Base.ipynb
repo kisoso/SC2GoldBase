{
 "cells": [
  {
   "cell_type": "code",
   "execution_count": 1,
   "metadata": {},
   "outputs": [],
   "source": [
    "%matplotlib inline"
   ]
  },
  {
   "cell_type": "code",
   "execution_count": 2,
   "metadata": {},
   "outputs": [],
   "source": [
    "import numpy as np\n",
    "import pandas as pd\n",
    "import matplotlib as mpl\n",
    "import matplotlib.pyplot as plt\n",
    "\n",
    "from scipy.stats import ttest_ind\n",
    "from scipy.stats import spearmanr\n",
    "\n",
    "from selenium import webdriver\n",
    "\n",
    "import time\n",
    "import re\n",
    "\n",
    "import csv\n",
    "\n",
    "from datetime import datetime, timedelta"
   ]
  },
  {
   "cell_type": "markdown",
   "metadata": {},
   "source": [
    "# Starcraft 2 Gold Base\n",
    "\n",
    "## How does mining minerals translate to real life?"
   ]
  },
  {
   "cell_type": "markdown",
   "metadata": {},
   "source": [
    "### Abstract\n",
    "\n",
    "In this article I am exploring the economy of competitive Starcraft 2 e-Sports scene backed by data for player base and tournament earnings.\n",
    "\n",
    "I specifically focus on the presense of Korean players forging the highs and lows of the industry. "
   ]
  },
  {
   "cell_type": "markdown",
   "metadata": {},
   "source": [
    "### Introduction\n",
    "\n",
    "Let me preface with the the term [Gold base](https://liquipedia.net/starcraft2/Resources#Rich_Mineral_Fields). In the game itself it is a stack of _rich minerals_ which yield greater resources than normal _mineral fields_. Another characteristic is that it has less batches and due to the faster mining it provides resources faster but also depletes quicker.\n",
    "\n",
    "During my exploration I constructed an analogy of gathering resources in-game and the South Korea's perseverence in Starcraft 2's e-Sports scene. \n",
    "\n",
    "I took inspiration from another data analysis by [pstragowskipiotr](https://github.com/pstragowskipiotr/Starcraft-e-Sport-analysis) [\\[1\\]](#References) and had an independent look at the data.\n",
    "\n",
    "In this notebook I detailed data acquisition, cleaning, data visualisation and analysis."
   ]
  },
  {
   "cell_type": "markdown",
   "metadata": {},
   "source": [
    "### Data acquisition\n",
    "\n",
    "There are numerous websites displaying rankings of players and earnings some of which provide public access to all their collected data. One of them is [Aligulac](http://aligulac.com/) [\\[2\\]](#References). It provides a regularly updated database datadump. It provides a good range of professional online and offline matches and players across the globe.\n",
    "\n",
    "The acquisition process itself was a challenge but a good experience. These are the steps I went though:\n",
    "* installation of PostgreSQL and creating CSV files.\n",
    "* scraping a website for additional data\n",
    "* NULL value cleanup and of cource more changes during EDA (Exploratory Data Analysis)"
   ]
  },
  {
   "cell_type": "markdown",
   "metadata": {},
   "source": [
    "#### Database data retrieval\n",
    "\n",
    "Let us take a look at the [Database description](http://aligulac.com/about/db/).\n",
    "\n",
    "As mentioned earlier I would want to to extract CSV files for convenience and to have all my data for offline usage without require a DB server going forwards. The datadump is an SQL query created on PostgreSQL so first thing would be to install it:\n",
    "\n",
    "https://www.postgresql.org/\n",
    "\n",
    "From here on I can open up a DB server and create and extract your tables, but isntalling a client might such as pgAdmin would help quite a bit:\n",
    "\n",
    "https://www.pgadmin.org/download/\n",
    "\n",
    "I can now setup a server with pgAdmin then in the command execute the sql query to populate my database:\n",
    "```cmd\n",
    "psql -U postgres -h localhost -d my_database -f \"path\\to\\aligulac.sql\"\n",
    "```\n",
    "\n",
    "The last thing would be to extract them to csv files by opening the Query Tool in pgAdmin and execute:\n",
    "```sql\n",
    "COPY table_name to 'path/to/output/file.csv' csv header;\n",
    "```\n",
    "\n",
    "The tables I am interested in are:\n",
    "* earnings\n",
    "* event\n",
    "* match\n",
    "* player\n",
    "\n",
    "I would put these files in a folder for cleanliness. As I already did that you can find all of them in the data folder. "
   ]
  },
  {
   "cell_type": "markdown",
   "metadata": {},
   "source": [
    "#### Player dataset exploration\n",
    "\n",
    "Now that we have the csv files, let's explore the player dataset."
   ]
  },
  {
   "cell_type": "code",
   "execution_count": 3,
   "metadata": {},
   "outputs": [],
   "source": [
    "player_data = pd.read_csv(\"data/player.csv\", index_col = \"id\")"
   ]
  },
  {
   "cell_type": "code",
   "execution_count": 4,
   "metadata": {
    "scrolled": true
   },
   "outputs": [
    {
     "data": {
      "text/html": [
       "<div>\n",
       "<style scoped>\n",
       "    .dataframe tbody tr th:only-of-type {\n",
       "        vertical-align: middle;\n",
       "    }\n",
       "\n",
       "    .dataframe tbody tr th {\n",
       "        vertical-align: top;\n",
       "    }\n",
       "\n",
       "    .dataframe thead th {\n",
       "        text-align: right;\n",
       "    }\n",
       "</style>\n",
       "<table border=\"1\" class=\"dataframe\">\n",
       "  <thead>\n",
       "    <tr style=\"text-align: right;\">\n",
       "      <th></th>\n",
       "      <th>tag</th>\n",
       "      <th>name</th>\n",
       "      <th>birthday</th>\n",
       "      <th>mcnum</th>\n",
       "      <th>tlpd_id</th>\n",
       "      <th>tlpd_db</th>\n",
       "      <th>lp_name</th>\n",
       "      <th>sc2e_id</th>\n",
       "      <th>country</th>\n",
       "      <th>race</th>\n",
       "      <th>dom_val</th>\n",
       "      <th>dom_start_id</th>\n",
       "      <th>dom_end_id</th>\n",
       "      <th>current_rating_id</th>\n",
       "      <th>romanized_name</th>\n",
       "    </tr>\n",
       "    <tr>\n",
       "      <th>id</th>\n",
       "      <th></th>\n",
       "      <th></th>\n",
       "      <th></th>\n",
       "      <th></th>\n",
       "      <th></th>\n",
       "      <th></th>\n",
       "      <th></th>\n",
       "      <th></th>\n",
       "      <th></th>\n",
       "      <th></th>\n",
       "      <th></th>\n",
       "      <th></th>\n",
       "      <th></th>\n",
       "      <th></th>\n",
       "      <th></th>\n",
       "    </tr>\n",
       "  </thead>\n",
       "  <tbody>\n",
       "    <tr>\n",
       "      <th>21622</th>\n",
       "      <td>나코나코땅땅</td>\n",
       "      <td>NaN</td>\n",
       "      <td>NaN</td>\n",
       "      <td>NaN</td>\n",
       "      <td>NaN</td>\n",
       "      <td>NaN</td>\n",
       "      <td>NaN</td>\n",
       "      <td>NaN</td>\n",
       "      <td>KR</td>\n",
       "      <td>P</td>\n",
       "      <td>-1.771827</td>\n",
       "      <td>25.0</td>\n",
       "      <td>26.0</td>\n",
       "      <td>7303345.0</td>\n",
       "      <td>NaN</td>\n",
       "    </tr>\n",
       "    <tr>\n",
       "      <th>21609</th>\n",
       "      <td>Alexey</td>\n",
       "      <td>NaN</td>\n",
       "      <td>NaN</td>\n",
       "      <td>NaN</td>\n",
       "      <td>NaN</td>\n",
       "      <td>NaN</td>\n",
       "      <td>NaN</td>\n",
       "      <td>NaN</td>\n",
       "      <td>UA</td>\n",
       "      <td>T</td>\n",
       "      <td>-1.977932</td>\n",
       "      <td>25.0</td>\n",
       "      <td>26.0</td>\n",
       "      <td>7303326.0</td>\n",
       "      <td>NaN</td>\n",
       "    </tr>\n",
       "    <tr>\n",
       "      <th>21610</th>\n",
       "      <td>Bush</td>\n",
       "      <td>NaN</td>\n",
       "      <td>NaN</td>\n",
       "      <td>NaN</td>\n",
       "      <td>NaN</td>\n",
       "      <td>NaN</td>\n",
       "      <td>NaN</td>\n",
       "      <td>NaN</td>\n",
       "      <td>LT</td>\n",
       "      <td>P</td>\n",
       "      <td>-1.956826</td>\n",
       "      <td>25.0</td>\n",
       "      <td>26.0</td>\n",
       "      <td>7303327.0</td>\n",
       "      <td>NaN</td>\n",
       "    </tr>\n",
       "    <tr>\n",
       "      <th>21615</th>\n",
       "      <td>Chenne</td>\n",
       "      <td>NaN</td>\n",
       "      <td>NaN</td>\n",
       "      <td>NaN</td>\n",
       "      <td>NaN</td>\n",
       "      <td>NaN</td>\n",
       "      <td>NaN</td>\n",
       "      <td>NaN</td>\n",
       "      <td>CA</td>\n",
       "      <td>P</td>\n",
       "      <td>-1.969522</td>\n",
       "      <td>25.0</td>\n",
       "      <td>26.0</td>\n",
       "      <td>7303346.0</td>\n",
       "      <td>NaN</td>\n",
       "    </tr>\n",
       "    <tr>\n",
       "      <th>21608</th>\n",
       "      <td>depulsor</td>\n",
       "      <td>NaN</td>\n",
       "      <td>NaN</td>\n",
       "      <td>NaN</td>\n",
       "      <td>NaN</td>\n",
       "      <td>NaN</td>\n",
       "      <td>NaN</td>\n",
       "      <td>NaN</td>\n",
       "      <td>DE</td>\n",
       "      <td>Z</td>\n",
       "      <td>-1.929563</td>\n",
       "      <td>25.0</td>\n",
       "      <td>26.0</td>\n",
       "      <td>7303328.0</td>\n",
       "      <td>NaN</td>\n",
       "    </tr>\n",
       "  </tbody>\n",
       "</table>\n",
       "</div>"
      ],
      "text/plain": [
       "            tag name birthday  mcnum  tlpd_id  tlpd_db lp_name  sc2e_id  \\\n",
       "id                                                                        \n",
       "21622    나코나코땅땅  NaN      NaN    NaN      NaN      NaN     NaN      NaN   \n",
       "21609    Alexey  NaN      NaN    NaN      NaN      NaN     NaN      NaN   \n",
       "21610      Bush  NaN      NaN    NaN      NaN      NaN     NaN      NaN   \n",
       "21615    Chenne  NaN      NaN    NaN      NaN      NaN     NaN      NaN   \n",
       "21608  depulsor  NaN      NaN    NaN      NaN      NaN     NaN      NaN   \n",
       "\n",
       "      country race   dom_val  dom_start_id  dom_end_id  current_rating_id  \\\n",
       "id                                                                          \n",
       "21622      KR    P -1.771827          25.0        26.0          7303345.0   \n",
       "21609      UA    T -1.977932          25.0        26.0          7303326.0   \n",
       "21610      LT    P -1.956826          25.0        26.0          7303327.0   \n",
       "21615      CA    P -1.969522          25.0        26.0          7303346.0   \n",
       "21608      DE    Z -1.929563          25.0        26.0          7303328.0   \n",
       "\n",
       "      romanized_name  \n",
       "id                    \n",
       "21622            NaN  \n",
       "21609            NaN  \n",
       "21610            NaN  \n",
       "21615            NaN  \n",
       "21608            NaN  "
      ]
     },
     "execution_count": 4,
     "metadata": {},
     "output_type": "execute_result"
    }
   ],
   "source": [
    "player_data.head()"
   ]
  },
  {
   "cell_type": "code",
   "execution_count": 5,
   "metadata": {
    "scrolled": true
   },
   "outputs": [
    {
     "data": {
      "text/plain": [
       "tag                   object\n",
       "name                  object\n",
       "birthday              object\n",
       "mcnum                float64\n",
       "tlpd_id              float64\n",
       "tlpd_db              float64\n",
       "lp_name               object\n",
       "sc2e_id              float64\n",
       "country               object\n",
       "race                  object\n",
       "dom_val              float64\n",
       "dom_start_id         float64\n",
       "dom_end_id           float64\n",
       "current_rating_id    float64\n",
       "romanized_name        object\n",
       "dtype: object"
      ]
     },
     "execution_count": 5,
     "metadata": {},
     "output_type": "execute_result"
    }
   ],
   "source": [
    "player_data.dtypes"
   ]
  },
  {
   "cell_type": "markdown",
   "metadata": {},
   "source": [
    "There are few columns names we are immediately interested in: id, tag, birthday, country and maybe (in-game) race. We are also interested in \"tlpd_id\" reasoned later in the exploration process. We really want to convert all id type columns to integers for associating with other datasets."
   ]
  },
  {
   "cell_type": "code",
   "execution_count": 6,
   "metadata": {},
   "outputs": [],
   "source": [
    "player_data.tlpd_id = player_data.tlpd_id.fillna(-1)\n",
    "player_data.tlpd_id = player_data.tlpd_id.astype(int)"
   ]
  },
  {
   "cell_type": "code",
   "execution_count": 7,
   "metadata": {},
   "outputs": [],
   "source": [
    "top_player_count_by_nationality = player_data.groupby(\"country\").size().nlargest(10).sort_values()"
   ]
  },
  {
   "cell_type": "code",
   "execution_count": 8,
   "metadata": {},
   "outputs": [
    {
     "data": {
      "image/png": "[encoded data removed]",
      "text/plain": [
       "<Figure size 720x432 with 1 Axes>"
      ]
     },
     "metadata": {
      "needs_background": "light"
     },
     "output_type": "display_data"
    }
   ],
   "source": [
    "plt.figure(figsize = (10, 6))\n",
    "\n",
    "plt.barh(top_player_count_by_nationality.index, top_player_count_by_nationality)\n",
    "\n",
    "plt.xlabel(\"Number of players\")\n",
    "plt.ylabel(\"Country Code\")\n",
    "plt.title(\"Top 10 countries by number of players\")\n",
    "plt.show()"
   ]
  },
  {
   "cell_type": "markdown",
   "metadata": {},
   "source": [
    "Interestingly enough this database is a bit biased towards having more players of the United States, but it would not affect my research much as we can see later.\n",
    "\n",
    "There is a preconceived notion that there are a lot ot Korean players at a professional level since they win a lot, but that does not seem to be the case. Although South Korea is still in second place we can further extrapolate on why they seem to dominate and if it holds true through the entire lifespan of Starcraft 2 so far.\n",
    "\n",
    "In fact, I will be a little bit ahead of myself and add a column indicating if the player is korean or not. It would help help immensely for further groupings."
   ]
  },
  {
   "cell_type": "code",
   "execution_count": 9,
   "metadata": {},
   "outputs": [],
   "source": [
    "player_data[\"sc_nationality\"] = player_data.apply(lambda row: \"South Korea\" if row.country == \"KR\" else \"The World\", axis=1)"
   ]
  },
  {
   "cell_type": "markdown",
   "metadata": {},
   "source": [
    "#### Earnings dataset exploration"
   ]
  },
  {
   "cell_type": "code",
   "execution_count": 10,
   "metadata": {},
   "outputs": [
    {
     "data": {
      "text/html": [
       "<div>\n",
       "<style scoped>\n",
       "    .dataframe tbody tr th:only-of-type {\n",
       "        vertical-align: middle;\n",
       "    }\n",
       "\n",
       "    .dataframe tbody tr th {\n",
       "        vertical-align: top;\n",
       "    }\n",
       "\n",
       "    .dataframe thead th {\n",
       "        text-align: right;\n",
       "    }\n",
       "</style>\n",
       "<table border=\"1\" class=\"dataframe\">\n",
       "  <thead>\n",
       "    <tr style=\"text-align: right;\">\n",
       "      <th></th>\n",
       "      <th>event_id</th>\n",
       "      <th>player_id</th>\n",
       "      <th>earnings</th>\n",
       "      <th>origearnings</th>\n",
       "      <th>currency</th>\n",
       "      <th>placement</th>\n",
       "    </tr>\n",
       "    <tr>\n",
       "      <th>id</th>\n",
       "      <th></th>\n",
       "      <th></th>\n",
       "      <th></th>\n",
       "      <th></th>\n",
       "      <th></th>\n",
       "      <th></th>\n",
       "    </tr>\n",
       "  </thead>\n",
       "  <tbody>\n",
       "    <tr>\n",
       "      <th>1</th>\n",
       "      <td>11922</td>\n",
       "      <td>28</td>\n",
       "      <td>12500.0</td>\n",
       "      <td>12500.0</td>\n",
       "      <td>USD</td>\n",
       "      <td>1</td>\n",
       "    </tr>\n",
       "    <tr>\n",
       "      <th>2</th>\n",
       "      <td>11922</td>\n",
       "      <td>18</td>\n",
       "      <td>6250.0</td>\n",
       "      <td>6250.0</td>\n",
       "      <td>USD</td>\n",
       "      <td>2</td>\n",
       "    </tr>\n",
       "    <tr>\n",
       "      <th>3</th>\n",
       "      <td>11922</td>\n",
       "      <td>22</td>\n",
       "      <td>3750.0</td>\n",
       "      <td>3750.0</td>\n",
       "      <td>USD</td>\n",
       "      <td>3</td>\n",
       "    </tr>\n",
       "    <tr>\n",
       "      <th>4</th>\n",
       "      <td>11922</td>\n",
       "      <td>106</td>\n",
       "      <td>2500.0</td>\n",
       "      <td>2500.0</td>\n",
       "      <td>USD</td>\n",
       "      <td>4</td>\n",
       "    </tr>\n",
       "    <tr>\n",
       "      <th>5</th>\n",
       "      <td>11921</td>\n",
       "      <td>3</td>\n",
       "      <td>12500.0</td>\n",
       "      <td>12500.0</td>\n",
       "      <td>USD</td>\n",
       "      <td>1</td>\n",
       "    </tr>\n",
       "  </tbody>\n",
       "</table>\n",
       "</div>"
      ],
      "text/plain": [
       "    event_id  player_id  earnings  origearnings currency  placement\n",
       "id                                                                 \n",
       "1      11922         28   12500.0       12500.0      USD          1\n",
       "2      11922         18    6250.0        6250.0      USD          2\n",
       "3      11922         22    3750.0        3750.0      USD          3\n",
       "4      11922        106    2500.0        2500.0      USD          4\n",
       "5      11921          3   12500.0       12500.0      USD          1"
      ]
     },
     "execution_count": 10,
     "metadata": {},
     "output_type": "execute_result"
    }
   ],
   "source": [
    "earning_data = pd.read_csv(\"data/earnings.csv\", index_col = \"id\")\n",
    "\n",
    "earning_data.head(5)"
   ]
  },
  {
   "cell_type": "code",
   "execution_count": 11,
   "metadata": {},
   "outputs": [
    {
     "name": "stdout",
     "output_type": "stream",
     "text": [
      "There are 17 prize money records that are not converted to USD or none.\n"
     ]
    },
    {
     "data": {
      "text/html": [
       "<div>\n",
       "<style scoped>\n",
       "    .dataframe tbody tr th:only-of-type {\n",
       "        vertical-align: middle;\n",
       "    }\n",
       "\n",
       "    .dataframe tbody tr th {\n",
       "        vertical-align: top;\n",
       "    }\n",
       "\n",
       "    .dataframe thead th {\n",
       "        text-align: right;\n",
       "    }\n",
       "</style>\n",
       "<table border=\"1\" class=\"dataframe\">\n",
       "  <thead>\n",
       "    <tr style=\"text-align: right;\">\n",
       "      <th></th>\n",
       "      <th>event_id</th>\n",
       "      <th>player_id</th>\n",
       "      <th>earnings</th>\n",
       "      <th>origearnings</th>\n",
       "      <th>currency</th>\n",
       "      <th>placement</th>\n",
       "    </tr>\n",
       "    <tr>\n",
       "      <th>id</th>\n",
       "      <th></th>\n",
       "      <th></th>\n",
       "      <th></th>\n",
       "      <th></th>\n",
       "      <th></th>\n",
       "      <th></th>\n",
       "    </tr>\n",
       "  </thead>\n",
       "  <tbody>\n",
       "    <tr>\n",
       "      <th>12956</th>\n",
       "      <td>13283</td>\n",
       "      <td>119</td>\n",
       "      <td>NaN</td>\n",
       "      <td>350.0</td>\n",
       "      <td>AUD</td>\n",
       "      <td>1</td>\n",
       "    </tr>\n",
       "    <tr>\n",
       "      <th>12957</th>\n",
       "      <td>13283</td>\n",
       "      <td>882</td>\n",
       "      <td>NaN</td>\n",
       "      <td>100.0</td>\n",
       "      <td>AUD</td>\n",
       "      <td>2</td>\n",
       "    </tr>\n",
       "    <tr>\n",
       "      <th>13510</th>\n",
       "      <td>27239</td>\n",
       "      <td>5280</td>\n",
       "      <td>NaN</td>\n",
       "      <td>50.0</td>\n",
       "      <td>BRL</td>\n",
       "      <td>1</td>\n",
       "    </tr>\n",
       "    <tr>\n",
       "      <th>14242</th>\n",
       "      <td>30457</td>\n",
       "      <td>117</td>\n",
       "      <td>NaN</td>\n",
       "      <td>25.0</td>\n",
       "      <td>EUR</td>\n",
       "      <td>1</td>\n",
       "    </tr>\n",
       "    <tr>\n",
       "      <th>14243</th>\n",
       "      <td>30457</td>\n",
       "      <td>2573</td>\n",
       "      <td>NaN</td>\n",
       "      <td>75.0</td>\n",
       "      <td>EUR</td>\n",
       "      <td>2</td>\n",
       "    </tr>\n",
       "    <tr>\n",
       "      <th>16371</th>\n",
       "      <td>36335</td>\n",
       "      <td>1276</td>\n",
       "      <td>NaN</td>\n",
       "      <td>5000.0</td>\n",
       "      <td>JPY</td>\n",
       "      <td>1</td>\n",
       "    </tr>\n",
       "    <tr>\n",
       "      <th>16372</th>\n",
       "      <td>36335</td>\n",
       "      <td>2336</td>\n",
       "      <td>NaN</td>\n",
       "      <td>3000.0</td>\n",
       "      <td>JPY</td>\n",
       "      <td>2</td>\n",
       "    </tr>\n",
       "    <tr>\n",
       "      <th>16373</th>\n",
       "      <td>36335</td>\n",
       "      <td>5447</td>\n",
       "      <td>NaN</td>\n",
       "      <td>1000.0</td>\n",
       "      <td>JPY</td>\n",
       "      <td>3</td>\n",
       "    </tr>\n",
       "    <tr>\n",
       "      <th>16374</th>\n",
       "      <td>36337</td>\n",
       "      <td>2361</td>\n",
       "      <td>NaN</td>\n",
       "      <td>5000.0</td>\n",
       "      <td>JPY</td>\n",
       "      <td>1</td>\n",
       "    </tr>\n",
       "    <tr>\n",
       "      <th>16375</th>\n",
       "      <td>36337</td>\n",
       "      <td>5447</td>\n",
       "      <td>NaN</td>\n",
       "      <td>3000.0</td>\n",
       "      <td>JPY</td>\n",
       "      <td>2</td>\n",
       "    </tr>\n",
       "    <tr>\n",
       "      <th>16376</th>\n",
       "      <td>36337</td>\n",
       "      <td>2369</td>\n",
       "      <td>NaN</td>\n",
       "      <td>1000.0</td>\n",
       "      <td>JPY</td>\n",
       "      <td>3</td>\n",
       "    </tr>\n",
       "    <tr>\n",
       "      <th>18359</th>\n",
       "      <td>36338</td>\n",
       "      <td>1276</td>\n",
       "      <td>NaN</td>\n",
       "      <td>5000.0</td>\n",
       "      <td>JPY</td>\n",
       "      <td>1</td>\n",
       "    </tr>\n",
       "    <tr>\n",
       "      <th>18360</th>\n",
       "      <td>36338</td>\n",
       "      <td>1008</td>\n",
       "      <td>NaN</td>\n",
       "      <td>3000.0</td>\n",
       "      <td>JPY</td>\n",
       "      <td>2</td>\n",
       "    </tr>\n",
       "    <tr>\n",
       "      <th>18361</th>\n",
       "      <td>36338</td>\n",
       "      <td>2369</td>\n",
       "      <td>NaN</td>\n",
       "      <td>1000.0</td>\n",
       "      <td>JPY</td>\n",
       "      <td>3</td>\n",
       "    </tr>\n",
       "    <tr>\n",
       "      <th>26797</th>\n",
       "      <td>64652</td>\n",
       "      <td>249</td>\n",
       "      <td>NaN</td>\n",
       "      <td>10000.0</td>\n",
       "      <td>CNY</td>\n",
       "      <td>1</td>\n",
       "    </tr>\n",
       "    <tr>\n",
       "      <th>26798</th>\n",
       "      <td>64652</td>\n",
       "      <td>7956</td>\n",
       "      <td>NaN</td>\n",
       "      <td>30000.0</td>\n",
       "      <td>CNY</td>\n",
       "      <td>2</td>\n",
       "    </tr>\n",
       "    <tr>\n",
       "      <th>26799</th>\n",
       "      <td>64652</td>\n",
       "      <td>5945</td>\n",
       "      <td>NaN</td>\n",
       "      <td>50000.0</td>\n",
       "      <td>CNY</td>\n",
       "      <td>3</td>\n",
       "    </tr>\n",
       "  </tbody>\n",
       "</table>\n",
       "</div>"
      ],
      "text/plain": [
       "       event_id  player_id  earnings  origearnings currency  placement\n",
       "id                                                                    \n",
       "12956     13283        119       NaN         350.0      AUD          1\n",
       "12957     13283        882       NaN         100.0      AUD          2\n",
       "13510     27239       5280       NaN          50.0      BRL          1\n",
       "14242     30457        117       NaN          25.0      EUR          1\n",
       "14243     30457       2573       NaN          75.0      EUR          2\n",
       "16371     36335       1276       NaN        5000.0      JPY          1\n",
       "16372     36335       2336       NaN        3000.0      JPY          2\n",
       "16373     36335       5447       NaN        1000.0      JPY          3\n",
       "16374     36337       2361       NaN        5000.0      JPY          1\n",
       "16375     36337       5447       NaN        3000.0      JPY          2\n",
       "16376     36337       2369       NaN        1000.0      JPY          3\n",
       "18359     36338       1276       NaN        5000.0      JPY          1\n",
       "18360     36338       1008       NaN        3000.0      JPY          2\n",
       "18361     36338       2369       NaN        1000.0      JPY          3\n",
       "26797     64652        249       NaN       10000.0      CNY          1\n",
       "26798     64652       7956       NaN       30000.0      CNY          2\n",
       "26799     64652       5945       NaN       50000.0      CNY          3"
      ]
     },
     "execution_count": 11,
     "metadata": {},
     "output_type": "execute_result"
    }
   ],
   "source": [
    "any_earning_filter = earning_data.earnings >= 0\n",
    "any_origearning_filter = earning_data.origearnings >= 0\n",
    "non_earnings = earning_data[~any_earning_filter]\n",
    "non_origearnings = earning_data[~any_origearning_filter]\n",
    "\n",
    "assert len(earning_data[~any_origearning_filter]) == 0\n",
    "\n",
    "print(\"There are %d prize money records that are not converted to USD or none.\" % len(non_earnings))\n",
    "non_earnings"
   ]
  },
  {
   "cell_type": "markdown",
   "metadata": {},
   "source": [
    "Upon checking out invalid earnings, we can see that currency in involved. Taking a look at the table description again, earnings column is prize money in USD. So I normalized all earnings to USD."
   ]
  },
  {
   "cell_type": "code",
   "execution_count": 12,
   "metadata": {},
   "outputs": [
    {
     "name": "stdout",
     "output_type": "stream",
     "text": [
      "We only care about conversion of AUD, BRL, EUR, JPY, CNY currencies.\n"
     ]
    }
   ],
   "source": [
    "non_converted_currencies = non_earnings.currency.unique()\n",
    "print(\"We only care about conversion of %s currencies.\" % \", \".join(non_converted_currencies))"
   ]
  },
  {
   "cell_type": "code",
   "execution_count": 13,
   "metadata": {},
   "outputs": [
    {
     "name": "stdout",
     "output_type": "stream",
     "text": [
      "All earnings are converted.\n"
     ]
    }
   ],
   "source": [
    "rates_to_usd = dict(zip(non_converted_currencies, [1] * len(non_converted_currencies)))\n",
    "\n",
    "for currency in rates_to_usd.keys():\n",
    "    row = earning_data[(earning_data.currency == currency) & any_earning_filter & any_earning_filter].head(1).iloc[0]\n",
    "    rates_to_usd[currency] = row.earnings / row.origearnings\n",
    "\n",
    "earning_data.loc[~any_earning_filter, \"earnings\"] =\\\n",
    "    earning_data[~any_earning_filter].apply(lambda row: round(row.origearnings * rates_to_usd[row.currency], 1), axis=1)\n",
    "\n",
    "try:\n",
    "    assert len(earning_data[~(earning_data.earnings >= 0)]) == 0\n",
    "    print(\"All earnings are converted.\")\n",
    "except:\n",
    "    print(\"There are still unconverted earnings\")"
   ]
  },
  {
   "cell_type": "code",
   "execution_count": 14,
   "metadata": {},
   "outputs": [
    {
     "name": "stdout",
     "output_type": "stream",
     "text": [
      "All earnings are associated with an event.\n"
     ]
    }
   ],
   "source": [
    "try:\n",
    "    assert len(earning_data[earning_data[\"event_id\"].isnull()]) == 0\n",
    "    print(\"All earnings are associated with an event.\")\n",
    "except:\n",
    "    print(\"Some earnings are not associated with an event.\")"
   ]
  },
  {
   "cell_type": "markdown",
   "metadata": {},
   "source": [
    "#### Event dataset exploration\n",
    "\n",
    "This dataset helps us determine the date of prize winnings, as each is associated with a tournament. We can consider the end of the tournament to be the date of earning."
   ]
  },
  {
   "cell_type": "code",
   "execution_count": 15,
   "metadata": {},
   "outputs": [
    {
     "data": {
      "text/html": [
       "<div>\n",
       "<style scoped>\n",
       "    .dataframe tbody tr th:only-of-type {\n",
       "        vertical-align: middle;\n",
       "    }\n",
       "\n",
       "    .dataframe tbody tr th {\n",
       "        vertical-align: top;\n",
       "    }\n",
       "\n",
       "    .dataframe thead th {\n",
       "        text-align: right;\n",
       "    }\n",
       "</style>\n",
       "<table border=\"1\" class=\"dataframe\">\n",
       "  <thead>\n",
       "    <tr style=\"text-align: right;\">\n",
       "      <th></th>\n",
       "      <th>name</th>\n",
       "      <th>parent_id</th>\n",
       "      <th>lft</th>\n",
       "      <th>rgt</th>\n",
       "      <th>closed</th>\n",
       "      <th>big</th>\n",
       "      <th>noprint</th>\n",
       "      <th>fullname</th>\n",
       "      <th>homepage</th>\n",
       "      <th>lp_name</th>\n",
       "      <th>...</th>\n",
       "      <th>tlpd_db</th>\n",
       "      <th>tl_thread</th>\n",
       "      <th>prizepool</th>\n",
       "      <th>earliest</th>\n",
       "      <th>latest</th>\n",
       "      <th>category</th>\n",
       "      <th>type</th>\n",
       "      <th>idx</th>\n",
       "      <th>wcs_year</th>\n",
       "      <th>wcs_tier</th>\n",
       "    </tr>\n",
       "    <tr>\n",
       "      <th>id</th>\n",
       "      <th></th>\n",
       "      <th></th>\n",
       "      <th></th>\n",
       "      <th></th>\n",
       "      <th></th>\n",
       "      <th></th>\n",
       "      <th></th>\n",
       "      <th></th>\n",
       "      <th></th>\n",
       "      <th></th>\n",
       "      <th></th>\n",
       "      <th></th>\n",
       "      <th></th>\n",
       "      <th></th>\n",
       "      <th></th>\n",
       "      <th></th>\n",
       "      <th></th>\n",
       "      <th></th>\n",
       "      <th></th>\n",
       "      <th></th>\n",
       "      <th></th>\n",
       "    </tr>\n",
       "  </thead>\n",
       "  <tbody>\n",
       "    <tr>\n",
       "      <th>112911</th>\n",
       "      <td>Ro128</td>\n",
       "      <td>112896</td>\n",
       "      <td>NaN</td>\n",
       "      <td>NaN</td>\n",
       "      <td>f</td>\n",
       "      <td>f</td>\n",
       "      <td>f</td>\n",
       "      <td>ESL Open Cup Americas #31 Ro128</td>\n",
       "      <td>NaN</td>\n",
       "      <td>NaN</td>\n",
       "      <td>...</td>\n",
       "      <td>NaN</td>\n",
       "      <td>NaN</td>\n",
       "      <td>NaN</td>\n",
       "      <td>2020-08-10</td>\n",
       "      <td>2020-08-10</td>\n",
       "      <td>NaN</td>\n",
       "      <td>round</td>\n",
       "      <td>25419</td>\n",
       "      <td>NaN</td>\n",
       "      <td>NaN</td>\n",
       "    </tr>\n",
       "    <tr>\n",
       "      <th>112922</th>\n",
       "      <td>Qualifier</td>\n",
       "      <td>112920</td>\n",
       "      <td>NaN</td>\n",
       "      <td>NaN</td>\n",
       "      <td>f</td>\n",
       "      <td>f</td>\n",
       "      <td>f</td>\n",
       "      <td>SC2Online Super Series 2020 Mid Season #2 Qual...</td>\n",
       "      <td>NaN</td>\n",
       "      <td>NaN</td>\n",
       "      <td>...</td>\n",
       "      <td>NaN</td>\n",
       "      <td>NaN</td>\n",
       "      <td>NaN</td>\n",
       "      <td>NaN</td>\n",
       "      <td>NaN</td>\n",
       "      <td>NaN</td>\n",
       "      <td>round</td>\n",
       "      <td>81516</td>\n",
       "      <td>NaN</td>\n",
       "      <td>NaN</td>\n",
       "    </tr>\n",
       "    <tr>\n",
       "      <th>112919</th>\n",
       "      <td>#9</td>\n",
       "      <td>111789</td>\n",
       "      <td>NaN</td>\n",
       "      <td>NaN</td>\n",
       "      <td>f</td>\n",
       "      <td>f</td>\n",
       "      <td>f</td>\n",
       "      <td>Winner Winner I'll Buy You Dinner #9</td>\n",
       "      <td>NaN</td>\n",
       "      <td>NaN</td>\n",
       "      <td>...</td>\n",
       "      <td>NaN</td>\n",
       "      <td>NaN</td>\n",
       "      <td>t</td>\n",
       "      <td>2020-08-01</td>\n",
       "      <td>2020-08-01</td>\n",
       "      <td>NaN</td>\n",
       "      <td>event</td>\n",
       "      <td>105739</td>\n",
       "      <td>NaN</td>\n",
       "      <td>NaN</td>\n",
       "    </tr>\n",
       "    <tr>\n",
       "      <th>112921</th>\n",
       "      <td>Main Event</td>\n",
       "      <td>112920</td>\n",
       "      <td>NaN</td>\n",
       "      <td>NaN</td>\n",
       "      <td>f</td>\n",
       "      <td>f</td>\n",
       "      <td>f</td>\n",
       "      <td>SC2Online Super Series 2020 Mid Season #2 Main...</td>\n",
       "      <td>NaN</td>\n",
       "      <td>NaN</td>\n",
       "      <td>...</td>\n",
       "      <td>NaN</td>\n",
       "      <td>NaN</td>\n",
       "      <td>NaN</td>\n",
       "      <td>NaN</td>\n",
       "      <td>NaN</td>\n",
       "      <td>NaN</td>\n",
       "      <td>round</td>\n",
       "      <td>81515</td>\n",
       "      <td>NaN</td>\n",
       "      <td>NaN</td>\n",
       "    </tr>\n",
       "    <tr>\n",
       "      <th>112918</th>\n",
       "      <td>#8</td>\n",
       "      <td>111789</td>\n",
       "      <td>NaN</td>\n",
       "      <td>NaN</td>\n",
       "      <td>f</td>\n",
       "      <td>f</td>\n",
       "      <td>f</td>\n",
       "      <td>Winner Winner I'll Buy You Dinner #8</td>\n",
       "      <td>NaN</td>\n",
       "      <td>NaN</td>\n",
       "      <td>...</td>\n",
       "      <td>NaN</td>\n",
       "      <td>NaN</td>\n",
       "      <td>t</td>\n",
       "      <td>2020-07-25</td>\n",
       "      <td>2020-07-25</td>\n",
       "      <td>NaN</td>\n",
       "      <td>event</td>\n",
       "      <td>105738</td>\n",
       "      <td>NaN</td>\n",
       "      <td>NaN</td>\n",
       "    </tr>\n",
       "  </tbody>\n",
       "</table>\n",
       "<p>5 rows × 21 columns</p>\n",
       "</div>"
      ],
      "text/plain": [
       "              name  parent_id  lft  rgt closed big noprint  \\\n",
       "id                                                           \n",
       "112911       Ro128     112896  NaN  NaN      f   f       f   \n",
       "112922   Qualifier     112920  NaN  NaN      f   f       f   \n",
       "112919          #9     111789  NaN  NaN      f   f       f   \n",
       "112921  Main Event     112920  NaN  NaN      f   f       f   \n",
       "112918          #8     111789  NaN  NaN      f   f       f   \n",
       "\n",
       "                                                 fullname homepage lp_name  \\\n",
       "id                                                                           \n",
       "112911                    ESL Open Cup Americas #31 Ro128      NaN     NaN   \n",
       "112922  SC2Online Super Series 2020 Mid Season #2 Qual...      NaN     NaN   \n",
       "112919               Winner Winner I'll Buy You Dinner #9      NaN     NaN   \n",
       "112921  SC2Online Super Series 2020 Mid Season #2 Main...      NaN     NaN   \n",
       "112918               Winner Winner I'll Buy You Dinner #8      NaN     NaN   \n",
       "\n",
       "        ...  tlpd_db  tl_thread  prizepool    earliest      latest category  \\\n",
       "id      ...                                                                   \n",
       "112911  ...      NaN        NaN        NaN  2020-08-10  2020-08-10      NaN   \n",
       "112922  ...      NaN        NaN        NaN         NaN         NaN      NaN   \n",
       "112919  ...      NaN        NaN          t  2020-08-01  2020-08-01      NaN   \n",
       "112921  ...      NaN        NaN        NaN         NaN         NaN      NaN   \n",
       "112918  ...      NaN        NaN          t  2020-07-25  2020-07-25      NaN   \n",
       "\n",
       "         type     idx  wcs_year  wcs_tier  \n",
       "id                                         \n",
       "112911  round   25419       NaN       NaN  \n",
       "112922  round   81516       NaN       NaN  \n",
       "112919  event  105739       NaN       NaN  \n",
       "112921  round   81515       NaN       NaN  \n",
       "112918  event  105738       NaN       NaN  \n",
       "\n",
       "[5 rows x 21 columns]"
      ]
     },
     "execution_count": 15,
     "metadata": {},
     "output_type": "execute_result"
    }
   ],
   "source": [
    "event_data = pd.read_csv(\"data/event.csv\", index_col = \"id\")\n",
    "\n",
    "event_data.parent_id = event_data.parent_id.fillna(-1)\n",
    "event_data.parent_id = event_data.parent_id.astype(int)\n",
    "\n",
    "event_data.head(5)"
   ]
  },
  {
   "cell_type": "code",
   "execution_count": 16,
   "metadata": {},
   "outputs": [],
   "source": [
    "earnings_data_full = \\\n",
    "    earning_data.merge(player_data, left_on = \"player_id\", right_index = True, how = \"inner\")\\\n",
    "                .merge(event_data, left_on = \"event_id\", right_index = True, how = \"inner\")\n",
    "\n",
    "earnings_data_full = earnings_data_full.rename({\"latest\": \"date\"}, axis = 1).drop(\"earliest\", axis = 1)"
   ]
  },
  {
   "cell_type": "code",
   "execution_count": 17,
   "metadata": {
    "scrolled": false
   },
   "outputs": [
    {
     "name": "stdout",
     "output_type": "stream",
     "text": [
      "There are 59 earnings without dates.\n"
     ]
    }
   ],
   "source": [
    "earnings_with_no_date = earnings_data_full[earnings_data_full.date.isnull()]\n",
    "print(\"There are %d earnings without dates.\" % len(earnings_with_no_date))"
   ]
  },
  {
   "cell_type": "markdown",
   "metadata": {},
   "source": [
    "It seems like there are some events with no dates. We can get those from their ancestors' events."
   ]
  },
  {
   "cell_type": "code",
   "execution_count": 18,
   "metadata": {},
   "outputs": [],
   "source": [
    "earnings_data_full.loc[earnings_data_full.date.isnull(), [\"date\"]] =\\\n",
    "    earnings_data_full[earnings_data_full.date.isnull()]\\\n",
    "        .apply(lambda row: event_data.iloc[row.parent_id][\"latest\"] if row.parent_id >= 0 else None, axis=1)"
   ]
  },
  {
   "cell_type": "code",
   "execution_count": 19,
   "metadata": {},
   "outputs": [
    {
     "name": "stdout",
     "output_type": "stream",
     "text": [
      "It seem like event(s) with id 50618, 74194 do not have date(s), neither do their parent event(s).\n"
     ]
    }
   ],
   "source": [
    "print(\"It seem like event(s) with id %s do not have date(s), neither do their parent event(s).\" %\\\n",
    "          \", \".join(earnings_data_full[earnings_data_full.date.isnull()].event_id.astype(str).unique()))"
   ]
  },
  {
   "cell_type": "markdown",
   "metadata": {},
   "source": [
    "We can look them up in the internet and add them manually."
   ]
  },
  {
   "cell_type": "code",
   "execution_count": 20,
   "metadata": {},
   "outputs": [
    {
     "data": {
      "text/html": [
       "<div>\n",
       "<style scoped>\n",
       "    .dataframe tbody tr th:only-of-type {\n",
       "        vertical-align: middle;\n",
       "    }\n",
       "\n",
       "    .dataframe tbody tr th {\n",
       "        vertical-align: top;\n",
       "    }\n",
       "\n",
       "    .dataframe thead th {\n",
       "        text-align: right;\n",
       "    }\n",
       "</style>\n",
       "<table border=\"1\" class=\"dataframe\">\n",
       "  <thead>\n",
       "    <tr style=\"text-align: right;\">\n",
       "      <th></th>\n",
       "      <th>fullname</th>\n",
       "    </tr>\n",
       "    <tr>\n",
       "      <th>id</th>\n",
       "      <th></th>\n",
       "    </tr>\n",
       "  </thead>\n",
       "  <tbody>\n",
       "    <tr>\n",
       "      <th>74194</th>\n",
       "      <td>Master's Coliseum 2</td>\n",
       "    </tr>\n",
       "    <tr>\n",
       "      <th>50618</th>\n",
       "      <td>Vectorama 2012</td>\n",
       "    </tr>\n",
       "  </tbody>\n",
       "</table>\n",
       "</div>"
      ],
      "text/plain": [
       "                  fullname\n",
       "id                        \n",
       "74194  Master's Coliseum 2\n",
       "50618       Vectorama 2012"
      ]
     },
     "execution_count": 20,
     "metadata": {},
     "output_type": "execute_result"
    }
   ],
   "source": [
    "event_data[event_data.index.isin([50618, 74194])][[\"fullname\"]]"
   ]
  },
  {
   "cell_type": "code",
   "execution_count": 21,
   "metadata": {},
   "outputs": [],
   "source": [
    "earnings_data_full.at[earnings_data_full.event_id == 74194, \"date\"] = \"2017-10-13\"\n",
    "earnings_data_full.at[earnings_data_full.event_id == 50618, \"date\"] = \"2012-06-09\""
   ]
  },
  {
   "cell_type": "code",
   "execution_count": 22,
   "metadata": {},
   "outputs": [
    {
     "name": "stdout",
     "output_type": "stream",
     "text": [
      "All earnings have dates.\n"
     ]
    }
   ],
   "source": [
    "try:\n",
    "    assert len(earnings_data_full[earnings_data_full.date.isnull()]) == 0\n",
    "    print(\"All earnings have dates.\")\n",
    "except:\n",
    "    print(\"Some earnings still do not have dates.\")"
   ]
  },
  {
   "cell_type": "code",
   "execution_count": 23,
   "metadata": {},
   "outputs": [],
   "source": [
    "earnings_data_full.date = pd.to_datetime(earnings_data_full.date)"
   ]
  },
  {
   "cell_type": "markdown",
   "metadata": {},
   "source": [
    "As previously denoted I want to see why South Korea is conceived as the undisputed best nation when it comes to Starcraft 2. The simplest indicators would be to first checkout number of championship in major tournaments and prize earnings over the years."
   ]
  },
  {
   "cell_type": "markdown",
   "metadata": {},
   "source": [
    "### Tournaments Domination\n",
    "\n",
    "Funnily, the event dataset does not provide information for player placement but rather the earnings table. I can reuse the fully joined ```earnings_data_full``` dataframe."
   ]
  },
  {
   "cell_type": "code",
   "execution_count": 24,
   "metadata": {},
   "outputs": [],
   "source": [
    "def simple_plot(\n",
    "    grouped_data,\n",
    "    reverse = False,\n",
    "    plot = plt,\n",
    "    plot_type = \"bar\",\n",
    "    horizontal = False,\n",
    "    title = None,\n",
    "    xlabel = None,\n",
    "    ylabel = None,\n",
    "    fontsize = None,\n",
    "    show_percentage = False,\n",
    "    show = True):\n",
    "    title_fontsize = None\n",
    "    label_fontsize = None\n",
    "    if fontsize is not None:\n",
    "        title_fontsize = fontsize\n",
    "        label_fontsize = 0.8 * fontsize\n",
    "    \n",
    "    if reverse:\n",
    "        grouped_data = grouped_data[::-1]\n",
    "    \n",
    "    if plot == plt:\n",
    "        plt.figure(figsize = (10, 6))\n",
    "\n",
    "    if (plot_type == \"bar\") and horizontal:\n",
    "        plot.barh(grouped_data.index, grouped_data)\n",
    "    elif (plot_type == \"bar\"):\n",
    "        plot.bar(grouped_data.index, grouped_data)\n",
    "    elif (plot_type == \"pie\"):\n",
    "        colors = ['#ff9999','#66b3ff']\n",
    "        pct = None\n",
    "\n",
    "        if show_percentage:\n",
    "            pct = lambda x: '{:.2f}%\\n({:.0f})'.format(x, sum(grouped_data) * x / 100)\n",
    "        plot.pie(grouped_data,\n",
    "                 labels = grouped_data.index,\n",
    "                 startangle=90,\n",
    "                 colors = colors,\n",
    "                 autopct = pct,\n",
    "                 textprops = {'fontsize': label_fontsize})\n",
    "    else:\n",
    "        raise ValueError(\"The plot type must be either \\\"bar\\\" or \\\"pie\\\"\")\n",
    "\n",
    "        \n",
    "    if plot == plt:\n",
    "        plot.title(title, size = title_fontsize)\n",
    "        plot.xlabel(xlabel, fontsize = label_fontsize)\n",
    "        plot.ylabel(ylabel, fontsize = label_fontsize)\n",
    "    else:\n",
    "        plot.set_title(title, size = title_fontsize)\n",
    "        plot.set_xlabel(xlabel, fontsize = label_fontsize)\n",
    "        plot.set_ylabel(ylabel, fontsize = label_fontsize)\n",
    "\n",
    "    if show:\n",
    "        plt.show()"
   ]
  },
  {
   "cell_type": "code",
   "execution_count": 25,
   "metadata": {},
   "outputs": [],
   "source": [
    "highest_number_championships_by_country =\\\n",
    "    earnings_data_full[(earnings_data_full.placement == 1)]\\\n",
    "    .groupby(\"country\").size()\\\n",
    "    .nlargest(10).sort_values()"
   ]
  },
  {
   "cell_type": "code",
   "execution_count": 26,
   "metadata": {},
   "outputs": [
    {
     "data": {
      "image/png": "[encoded data removed]",
      "text/plain": [
       "<Figure size 720x432 with 1 Axes>"
      ]
     },
     "metadata": {
      "needs_background": "light"
     },
     "output_type": "display_data"
    }
   ],
   "source": [
    "simple_plot(\n",
    "    highest_number_championships_by_country,\n",
    "    horizontal = True,\n",
    "    title = \"Top 10 Countries by Tournament Winnings\",\n",
    "    xlabel = \"Number of Championships\",\n",
    "    ylabel = \"Country Code\")"
   ]
  },
  {
   "cell_type": "markdown",
   "metadata": {},
   "source": [
    "South Korea is the winningest country by a big margin compared to next the best country, so it is suitable to compare them to the rest of the world as a whole unit. This consideration will also hold true going forwards as the data will be more comparable, proping the ```sc_nationality``` column.\n",
    "\n",
    "In Esports prize money is not the best indication for a players income, there are more factors such as endorsements, advertisements, sponsors and salary, as well as other side works such as youtube or streaming. But in the true sense of competition, tournaments with the biggest prize pool hold the most value and brings about the best drive from the players."
   ]
  },
  {
   "cell_type": "code",
   "execution_count": 27,
   "metadata": {},
   "outputs": [],
   "source": [
    "all_championships_number_by_country =\\\n",
    "    earnings_data_full[(earnings_data_full.placement == 1)]\\\n",
    "    .groupby(\"sc_nationality\").size()\n",
    "significant_championships_number_by_country =\\\n",
    "    earnings_data_full[(earnings_data_full.placement == 1) & (earnings_data_full.earnings > 1000)]\\\n",
    "    .groupby(\"sc_nationality\").size()\n",
    "very_significant_championships_number_by_country =\\\n",
    "    earnings_data_full[(earnings_data_full.placement == 1) & (earnings_data_full.earnings > 10000)]\\\n",
    "    .groupby(\"sc_nationality\").size()"
   ]
  },
  {
   "cell_type": "code",
   "execution_count": 28,
   "metadata": {},
   "outputs": [
    {
     "data": {
      "image/png": "[encoded data removed]",
      "text/plain": [
       "<Figure size 1296x648 with 3 Axes>"
      ]
     },
     "metadata": {},
     "output_type": "display_data"
    }
   ],
   "source": [
    "fig, (ax1, ax2, ax3) = plt.subplots(1, 3, sharey=True)\n",
    "fig.set_size_inches((18, 9))\n",
    "\n",
    "simple_plot(\n",
    "    all_championships_number_by_country,\n",
    "    reverse = True,\n",
    "    title = \"All Tournament Winnings by country\",\n",
    "    plot = ax1,\n",
    "    plot_type = \"pie\",\n",
    "    show_percentage = True,\n",
    "    show = False)\n",
    "simple_plot(\n",
    "    significant_championships_number_by_country,\n",
    "    reverse = True,\n",
    "    title = \"Championships with high winner prize (> $1,000)\",\n",
    "    plot = ax2,\n",
    "    plot_type = \"pie\",\n",
    "    show_percentage = True,\n",
    "    show = False)\n",
    "simple_plot(\n",
    "    very_significant_championships_number_by_country,\n",
    "    reverse = True,\n",
    "    title = \"Championships with even higher winner prize (> $10,000)\",\n",
    "    plot = ax3,\n",
    "    plot_type = \"pie\",\n",
    "    show_percentage = True,\n",
    "    show = False)\n",
    "\n",
    "plt.show()"
   ]
  },
  {
   "cell_type": "code",
   "execution_count": 29,
   "metadata": {},
   "outputs": [],
   "source": [
    "player_earnings_data = earnings_data_full\\\n",
    "    .groupby(\"player_id\").agg({\"earnings\": \"sum\"})\\\n",
    "    .merge(player_data, left_index = True, right_index = True, how = \"inner\")\n",
    "\n",
    "num_players_with_earnings_by_country = player_earnings_data.groupby(\"sc_nationality\").size()"
   ]
  },
  {
   "cell_type": "code",
   "execution_count": 30,
   "metadata": {},
   "outputs": [
    {
     "data": {
      "image/png": "[encoded data removed]",
      "text/plain": [
       "<Figure size 720x432 with 1 Axes>"
      ]
     },
     "metadata": {},
     "output_type": "display_data"
    }
   ],
   "source": [
    "simple_plot(\n",
    "    num_players_with_earnings_by_country,\n",
    "    reverse = True,\n",
    "    title = \"Number of players with earnings\",\n",
    "    plot = plt,\n",
    "    plot_type = \"pie\",\n",
    "    show_percentage = True,\n",
    "    show = True)"
   ]
  },
  {
   "cell_type": "markdown",
   "metadata": {},
   "source": [
    "As seen on the charts South Korean players represent 15% of the player base with any prize money from tournament. But the higher the stake, the greater the number of Korean players there is compared to the rest of the world. This is where the term \"Foreign player\" comes from, denoting players not originating from South Korea. Their position in a match againt a Korean player is always of the underdog."
   ]
  },
  {
   "cell_type": "code",
   "execution_count": 31,
   "metadata": {},
   "outputs": [
    {
     "data": {
      "image/png": "[encoded data removed]",
      "text/plain": [
       "<Figure size 720x432 with 1 Axes>"
      ]
     },
     "metadata": {
      "needs_background": "light"
     },
     "output_type": "display_data"
    }
   ],
   "source": [
    "korean_filter = player_earnings_data.sc_nationality == \"South Korea\"\n",
    "korean_earnings = player_earnings_data.earnings[korean_filter]\n",
    "non_korean_earnings = player_earnings_data.earnings[~korean_filter]\n",
    "\n",
    "plt.figure(figsize = (10, 6))\n",
    "\n",
    "plt.hist(np.log(korean_earnings), label = \"South Korea\", log = True, bins = \"fd\", alpha = 0.7)\n",
    "plt.hist(np.log(non_korean_earnings), label = \"The World\", log = True, bins = \"fd\", alpha = 0.7)\n",
    "\n",
    "plt.title(\"Distribution of earnings for South Korean and Foreign Players\")\n",
    "plt.xlabel(\"Earning [log, $]\")\n",
    "plt.ylabel(\"Number of players [log]\")\n",
    "\n",
    "plt.legend()\n",
    "plt.show()"
   ]
  },
  {
   "cell_type": "markdown",
   "metadata": {},
   "source": [
    "Although I see that the distributions seem very different, I would like to run a *null hypothesis* t-test to denounce that they are of the same distribution, setting myself a threshold of 1%.\n",
    "\n",
    "As I have observed korean and non-korean players do not have similar count, so I can run the following:"
   ]
  },
  {
   "cell_type": "code",
   "execution_count": 32,
   "metadata": {},
   "outputs": [
    {
     "data": {
      "text/plain": [
       "3.965799981375449e-11"
      ]
     },
     "execution_count": 32,
     "metadata": {},
     "output_type": "execute_result"
    }
   ],
   "source": [
    "ttest_ind(korean_earnings, non_korean_earnings, equal_var = False).pvalue"
   ]
  },
  {
   "cell_type": "markdown",
   "metadata": {},
   "source": [
    "With a p-score of $3.9^{-9}\\%$ I can move on."
   ]
  },
  {
   "cell_type": "markdown",
   "metadata": {},
   "source": [
    "### Economics of a Nation"
   ]
  },
  {
   "cell_type": "code",
   "execution_count": 33,
   "metadata": {},
   "outputs": [],
   "source": [
    "def group_earnings(earnings_data, by = \"year\", ):\n",
    "    grouped_data = None\n",
    "    \n",
    "    if by in [\"day\", \"month\", \"year\"]:\n",
    "        grouped_data = earnings_data.groupby(getattr(earnings_data[\"date\"].dt, by)).agg({\"earnings\": \"sum\"})\n",
    "    elif by in earnings_data.columns.tolist():\n",
    "        grouped_data = earnings_data.groupby(by).agg({\"earnings\": \"sum\"})\n",
    "    \n",
    "    return grouped_data"
   ]
  },
  {
   "cell_type": "code",
   "execution_count": 34,
   "metadata": {},
   "outputs": [],
   "source": [
    "all_earnings_by_year = group_earnings(earnings_data_full, by = \"year\")\n",
    "kr_earnings_by_year = group_earnings(earnings_data_full[earnings_data_full.country == \"KR\"], by = \"year\")\n",
    "non_kr_earnings_by_year = group_earnings(earnings_data_full[earnings_data_full.country != \"KR\"], by = \"year\")\n",
    "\n",
    "kr_earnings_by_player = group_earnings(earnings_data_full[earnings_data_full.country == \"KR\"], by = \"player_id\")"
   ]
  },
  {
   "cell_type": "code",
   "execution_count": 35,
   "metadata": {},
   "outputs": [],
   "source": [
    "def plot_earnings_by_year(earnings_by_year, title = None, legend_label = None, show = True):\n",
    "    plt.figure(figsize = (10, 6))\n",
    "\n",
    "    plt.bar(earnings_by_year.index, earnings_by_year.earnings, label = legend_label)\n",
    "    \n",
    "    x = np.arange(np.min(earnings_by_year.index), np.max(earnings_by_year.index) + 1)\n",
    "    xlabels = x.astype(str)\n",
    "    xlabels[0] = xlabels[0] + \"\\nJuly\"\n",
    "    xlabels[-1] = xlabels[-1] + \"\\nAugust\"\n",
    "    \n",
    "    plt.xticks(x, labels = xlabels)\n",
    "    plt.yticks(plt.yticks()[0], [\"{:,}\".format(int(x)) for x in plt.yticks()[0].tolist()])\n",
    "    \n",
    "    if title:\n",
    "        plt.title(title)\n",
    "    plt.xlabel(\"Year\")\n",
    "    plt.ylabel(\"Earnings [$]\")\n",
    "    if legend_label:\n",
    "        plt.legend()\n",
    "    if show:\n",
    "        plt.show()"
   ]
  },
  {
   "cell_type": "code",
   "execution_count": 36,
   "metadata": {},
   "outputs": [],
   "source": [
    "def plot_earnings_grouped_bars_by_year(\n",
    "    groups,\n",
    "    title = None,\n",
    "    legend_labels = None,\n",
    "    show = True):\n",
    "    min_year = np.min([np.min(group.index) for group in groups])\n",
    "    max_year = np.max([np.max(group.index) for group in groups])\n",
    "\n",
    "    x = np.arange(min_year, max_year + 1)\n",
    "    xlabels = x.astype('str')\n",
    "    xlabels[0] = xlabels[0] + \"\\nJuly\"\n",
    "    xlabels[-1] = xlabels[-1] + \"\\nAugust\"\n",
    "    \n",
    "    bar_width = 1 / (len(groups) + 1)\n",
    "    group_positions = []\n",
    "    \n",
    "    fig, ax = plt.subplots()\n",
    "    fig.set_size_inches((10, 6))\n",
    "    \n",
    "    for index in range(len(groups)):\n",
    "        group_positions = x - 0.5 + bar_width + index * bar_width\n",
    "        legend_label = legend_labels[index] if (legend_labels is not None) and (len(legend_labels) > index) else None\n",
    "        ax.bar(group_positions, groups[index].earnings, bar_width, label = legend_label)\n",
    "\n",
    "    ax.set_xticks(x)\n",
    "    ax.set_xticklabels(xlabels)\n",
    "    ax.set_xlim((min_year - 2 * bar_width, max_year + 2 * bar_width))\n",
    "    ax.set_yticklabels([\"{:,}\".format(int(x)) for x in ax.get_yticks().tolist()])\n",
    "\n",
    "    if title:\n",
    "        plt.title(title)\n",
    "    plt.xlabel(\"Year\")\n",
    "    plt.ylabel(\"Earnings [$]\")\n",
    "    if legend_labels:\n",
    "        plt.legend()\n",
    "    if show:\n",
    "        plt.show()"
   ]
  },
  {
   "cell_type": "code",
   "execution_count": 37,
   "metadata": {
    "scrolled": false
   },
   "outputs": [
    {
     "data": {
      "image/png": "[encoded data removed]",
      "text/plain": [
       "<Figure size 720x432 with 1 Axes>"
      ]
     },
     "metadata": {
      "needs_background": "light"
     },
     "output_type": "display_data"
    }
   ],
   "source": [
    "plot_earnings_by_year(all_earnings_by_year, title = \"Yearly overall earnings\")"
   ]
  },
  {
   "cell_type": "code",
   "execution_count": 38,
   "metadata": {},
   "outputs": [
    {
     "data": {
      "image/png": "[encoded data removed]",
      "text/plain": [
       "<Figure size 720x432 with 1 Axes>"
      ]
     },
     "metadata": {
      "needs_background": "light"
     },
     "output_type": "display_data"
    }
   ],
   "source": [
    "plot_earnings_grouped_bars_by_year(\n",
    "    [kr_earnings_by_year, non_kr_earnings_by_year],\n",
    "    title = \"Yearly earnings of South Korea versus the World\",\n",
    "    legend_labels = [\"South Korea\", \"Rest of the World\"])"
   ]
  },
  {
   "cell_type": "markdown",
   "metadata": {},
   "source": [
    "Starcraft 2 was released on July 27, 2010 and has received tremendous attention from the get go. Its e-Sports scene directly succeeds Starcraft Broodwar scene which was on its 12 year anniversary.\n",
    "\n",
    "Back in the day WCG was the biggest non-regional event where player from within and outside South Korean could compete directly. Having [all of them won by South Korea](https://liquipedia.net/starcraft/World_Cyber_Games#WCG_StarCraft:_BroodWar_Winners) and the fact that [the biggest leagues](https://liquipedia.net/starcraft/Leagues) are based in the country, we can claim that South Korea is the mecca of Starcraft e-Sports. But for a technology driven media such as video games a 12-year run eventually comes to a decline.\n",
    "\n",
    "With the fresh content and Broodwar players moving to a new game as well as an even playing field for the Foreign players Starcraft 2 brings about a good start. The rise of gaming streaming services such as Own3D and Justin.tv (later bacoming [Twitch](https://en.wikipedia.org/wiki/Twitch_\\(service\\))) marks a great boost to the viewership and sponsorship to tournaments.\n",
    "\n",
    "Although the scene had a big jump for first 2 years of its exitence, over the next 3 years it started declining due to South Korean domination and the rise of other biggest e-Sports scene for League of Legends. It's biggest hit was in 2015 where another big game [Overwatch](https://killscreen.com/themeta/pc-bangs-seoul-overwatch-reigns-supreme/)  [\\[3\\]](#References) hit the shelves and the infamous [match-fixing scandal](https://liquipedia.net/starcraft2/2015_Match-Fixing_Scandal) amidst a declining viewertship cemented the worst year since existence. Fortunately it was not a fatal blow as what happened in the [Broodwar](https://liquipedia.net/starcraft/Match_Fixing_Scandal) days.\n",
    "\n",
    "With the release of the games [latest expansion](https://en.wikipedia.org/wiki/StarCraft_II:_Legacy_of_the_Void) in 2015 hit another growth spurt. But this time it is a bit different."
   ]
  },
  {
   "cell_type": "code",
   "execution_count": 39,
   "metadata": {},
   "outputs": [
    {
     "data": {
      "image/png": "[encoded data removed]",
      "text/plain": [
       "<Figure size 720x432 with 1 Axes>"
      ]
     },
     "metadata": {
      "needs_background": "light"
     },
     "output_type": "display_data"
    }
   ],
   "source": [
    "korean_players_earnings_by_year =\\\n",
    "    earnings_data_full[earnings_data_full.sc_nationality == \"South Korea\"]\\\n",
    "    .groupby(earnings_data_full[\"date\"].dt.year).size()\n",
    "\n",
    "simple_plot(korean_players_earnings_by_year, title = \"Players in tournament with earnings\")"
   ]
  },
  {
   "cell_type": "markdown",
   "metadata": {},
   "source": [
    "See, over the years the total prize earnings from Korean players have consistently been higher than the rest of the world with the exception of 2018 but that exception comes from the a trend over the years. The gap in earnings has decreased gradually although the Korean players presense decline is not that steep."
   ]
  },
  {
   "cell_type": "markdown",
   "metadata": {},
   "source": [
    "The 2020 COVID-19 pandemic was also not favorable to the industry. Two third of the year has passed but the prizepool is less than half compared to the previuous year."
   ]
  },
  {
   "cell_type": "markdown",
   "metadata": {},
   "source": [
    "### Most Valuable Players\n",
    "\n",
    "In this section I would like to explore individual performances driving the cumulative data. "
   ]
  },
  {
   "cell_type": "code",
   "execution_count": 40,
   "metadata": {},
   "outputs": [
    {
     "name": "stdout",
     "output_type": "stream",
     "text": [
      "18747 of out 19503 (96.1%) do not have birthday records\n"
     ]
    }
   ],
   "source": [
    "num_players = len(player_data)\n",
    "num_players_without_birthday = len(player_data[player_data.birthday.isnull()])\n",
    "\n",
    "print(\"%d of out %d (%s) do not have birthday records\" % \\\n",
    "      (num_players_without_birthday,\n",
    "       num_players,\n",
    "       \"{:.1%}\".format(num_players_without_birthday / num_players)))"
   ]
  },
  {
   "cell_type": "markdown",
   "metadata": {},
   "source": [
    "That is quite a big chunk of missing data, but we do not really need to retrieve all of them.\n",
    "Taking a look at earnings we can see only a fraction of all recorded players have received prize money from tournaments. Let us take a look at the table first."
   ]
  },
  {
   "cell_type": "code",
   "execution_count": 41,
   "metadata": {},
   "outputs": [],
   "source": [
    "players_with_earnings = earnings_data_full.groupby(\"player_id\").agg({\"earnings\": \"sum\", \"date\": [\"min\", \"max\"]})\n",
    "players_with_earnings.columns = ['_'.join(col).strip() for col in players_with_earnings.columns.values]\n",
    "players_with_earnings = players_with_earnings.merge(player_data, left_index = True, right_on = \"id\", how = \"inner\")\n",
    "players_with_earnings =\\\n",
    "    players_with_earnings[[\"tag\", \"tlpd_id\", \"birthday\", \"sc_nationality\", \"race\", \"date_min\", \"date_max\", \"earnings_sum\"]]\\\n",
    "    .rename({\"earnings_sum\": \"earnings\", \"date_min\": \"earnings_min_date\", \"date_max\": \"earnings_max_date\"}, axis = 1)"
   ]
  },
  {
   "cell_type": "code",
   "execution_count": 42,
   "metadata": {},
   "outputs": [
    {
     "data": {
      "text/html": [
       "<div>\n",
       "<style scoped>\n",
       "    .dataframe tbody tr th:only-of-type {\n",
       "        vertical-align: middle;\n",
       "    }\n",
       "\n",
       "    .dataframe tbody tr th {\n",
       "        vertical-align: top;\n",
       "    }\n",
       "\n",
       "    .dataframe thead th {\n",
       "        text-align: right;\n",
       "    }\n",
       "</style>\n",
       "<table border=\"1\" class=\"dataframe\">\n",
       "  <thead>\n",
       "    <tr style=\"text-align: right;\">\n",
       "      <th></th>\n",
       "      <th>tag</th>\n",
       "      <th>tlpd_id</th>\n",
       "      <th>birthday</th>\n",
       "      <th>sc_nationality</th>\n",
       "      <th>race</th>\n",
       "      <th>earnings_min_date</th>\n",
       "      <th>earnings_max_date</th>\n",
       "      <th>earnings</th>\n",
       "    </tr>\n",
       "    <tr>\n",
       "      <th>id</th>\n",
       "      <th></th>\n",
       "      <th></th>\n",
       "      <th></th>\n",
       "      <th></th>\n",
       "      <th></th>\n",
       "      <th></th>\n",
       "      <th></th>\n",
       "      <th></th>\n",
       "    </tr>\n",
       "  </thead>\n",
       "  <tbody>\n",
       "    <tr>\n",
       "      <th>1</th>\n",
       "      <td>Leenock</td>\n",
       "      <td>1971</td>\n",
       "      <td>1995-04-01</td>\n",
       "      <td>South Korea</td>\n",
       "      <td>Z</td>\n",
       "      <td>2010-11-13</td>\n",
       "      <td>2019-06-22</td>\n",
       "      <td>275579.0</td>\n",
       "    </tr>\n",
       "    <tr>\n",
       "      <th>2</th>\n",
       "      <td>Creator</td>\n",
       "      <td>2838</td>\n",
       "      <td>1997-02-23</td>\n",
       "      <td>South Korea</td>\n",
       "      <td>P</td>\n",
       "      <td>2011-05-06</td>\n",
       "      <td>2020-08-04</td>\n",
       "      <td>123741.0</td>\n",
       "    </tr>\n",
       "    <tr>\n",
       "      <th>3</th>\n",
       "      <td>Life</td>\n",
       "      <td>2747</td>\n",
       "      <td>1997-01-11</td>\n",
       "      <td>South Korea</td>\n",
       "      <td>Z</td>\n",
       "      <td>2011-07-06</td>\n",
       "      <td>2016-02-05</td>\n",
       "      <td>470559.0</td>\n",
       "    </tr>\n",
       "    <tr>\n",
       "      <th>4</th>\n",
       "      <td>DongRaeGu</td>\n",
       "      <td>2627</td>\n",
       "      <td>1991-06-03</td>\n",
       "      <td>South Korea</td>\n",
       "      <td>Z</td>\n",
       "      <td>2011-06-18</td>\n",
       "      <td>2020-08-11</td>\n",
       "      <td>258874.0</td>\n",
       "    </tr>\n",
       "    <tr>\n",
       "      <th>5</th>\n",
       "      <td>PartinG</td>\n",
       "      <td>2322</td>\n",
       "      <td>1994-08-24</td>\n",
       "      <td>South Korea</td>\n",
       "      <td>P</td>\n",
       "      <td>2011-12-07</td>\n",
       "      <td>2020-08-10</td>\n",
       "      <td>400282.0</td>\n",
       "    </tr>\n",
       "  </tbody>\n",
       "</table>\n",
       "</div>"
      ],
      "text/plain": [
       "          tag  tlpd_id    birthday sc_nationality race earnings_min_date  \\\n",
       "id                                                                         \n",
       "1     Leenock     1971  1995-04-01    South Korea    Z        2010-11-13   \n",
       "2     Creator     2838  1997-02-23    South Korea    P        2011-05-06   \n",
       "3        Life     2747  1997-01-11    South Korea    Z        2011-07-06   \n",
       "4   DongRaeGu     2627  1991-06-03    South Korea    Z        2011-06-18   \n",
       "5     PartinG     2322  1994-08-24    South Korea    P        2011-12-07   \n",
       "\n",
       "   earnings_max_date  earnings  \n",
       "id                              \n",
       "1         2019-06-22  275579.0  \n",
       "2         2020-08-04  123741.0  \n",
       "3         2016-02-05  470559.0  \n",
       "4         2020-08-11  258874.0  \n",
       "5         2020-08-10  400282.0  "
      ]
     },
     "execution_count": 42,
     "metadata": {},
     "output_type": "execute_result"
    }
   ],
   "source": [
    "players_with_earnings.head()"
   ]
  },
  {
   "cell_type": "code",
   "execution_count": 43,
   "metadata": {},
   "outputs": [
    {
     "name": "stdout",
     "output_type": "stream",
     "text": [
      "There are 1934 out of 2561 (75.5%) players without birthday.\n"
     ]
    }
   ],
   "source": [
    "players_without_birthday = players_with_earnings[players_with_earnings.birthday.isnull()]\n",
    "print(\"There are %d out of %d (%s) players without birthday.\" % \\\n",
    "    (len(players_without_birthday),\n",
    "     len(players_with_earnings),\n",
    "     \"{:.1%}\".format(len(players_without_birthday) / len(players_with_earnings))))"
   ]
  },
  {
   "cell_type": "code",
   "execution_count": 44,
   "metadata": {},
   "outputs": [
    {
     "data": {
      "text/html": [
       "<div>\n",
       "<style scoped>\n",
       "    .dataframe tbody tr th:only-of-type {\n",
       "        vertical-align: middle;\n",
       "    }\n",
       "\n",
       "    .dataframe tbody tr th {\n",
       "        vertical-align: top;\n",
       "    }\n",
       "\n",
       "    .dataframe thead th {\n",
       "        text-align: right;\n",
       "    }\n",
       "</style>\n",
       "<table border=\"1\" class=\"dataframe\">\n",
       "  <thead>\n",
       "    <tr style=\"text-align: right;\">\n",
       "      <th></th>\n",
       "      <th>tag</th>\n",
       "      <th>tlpd_id</th>\n",
       "      <th>birthday</th>\n",
       "      <th>sc_nationality</th>\n",
       "      <th>race</th>\n",
       "      <th>earnings_min_date</th>\n",
       "      <th>earnings_max_date</th>\n",
       "      <th>earnings</th>\n",
       "    </tr>\n",
       "    <tr>\n",
       "      <th>id</th>\n",
       "      <th></th>\n",
       "      <th></th>\n",
       "      <th></th>\n",
       "      <th></th>\n",
       "      <th></th>\n",
       "      <th></th>\n",
       "      <th></th>\n",
       "      <th></th>\n",
       "    </tr>\n",
       "  </thead>\n",
       "  <tbody>\n",
       "    <tr>\n",
       "      <th>64</th>\n",
       "      <td>Sting</td>\n",
       "      <td>3817</td>\n",
       "      <td>NaN</td>\n",
       "      <td>South Korea</td>\n",
       "      <td>T</td>\n",
       "      <td>2011-11-02</td>\n",
       "      <td>2016-06-18</td>\n",
       "      <td>15539.0</td>\n",
       "    </tr>\n",
       "    <tr>\n",
       "      <th>78</th>\n",
       "      <td>monchi</td>\n",
       "      <td>2796</td>\n",
       "      <td>NaN</td>\n",
       "      <td>The World</td>\n",
       "      <td>P</td>\n",
       "      <td>2011-07-19</td>\n",
       "      <td>2013-05-26</td>\n",
       "      <td>20017.0</td>\n",
       "    </tr>\n",
       "    <tr>\n",
       "      <th>84</th>\n",
       "      <td>TREME</td>\n",
       "      <td>3601</td>\n",
       "      <td>NaN</td>\n",
       "      <td>South Korea</td>\n",
       "      <td>P</td>\n",
       "      <td>2011-08-29</td>\n",
       "      <td>2012-07-25</td>\n",
       "      <td>584.0</td>\n",
       "    </tr>\n",
       "    <tr>\n",
       "      <th>130</th>\n",
       "      <td>roof</td>\n",
       "      <td>3263</td>\n",
       "      <td>NaN</td>\n",
       "      <td>The World</td>\n",
       "      <td>Z</td>\n",
       "      <td>2011-07-17</td>\n",
       "      <td>2015-01-27</td>\n",
       "      <td>2206.0</td>\n",
       "    </tr>\n",
       "    <tr>\n",
       "      <th>135</th>\n",
       "      <td>ReaL</td>\n",
       "      <td>4079</td>\n",
       "      <td>NaN</td>\n",
       "      <td>South Korea</td>\n",
       "      <td>P</td>\n",
       "      <td>2011-09-27</td>\n",
       "      <td>2013-01-05</td>\n",
       "      <td>5402.0</td>\n",
       "    </tr>\n",
       "    <tr>\n",
       "      <th>...</th>\n",
       "      <td>...</td>\n",
       "      <td>...</td>\n",
       "      <td>...</td>\n",
       "      <td>...</td>\n",
       "      <td>...</td>\n",
       "      <td>...</td>\n",
       "      <td>...</td>\n",
       "      <td>...</td>\n",
       "    </tr>\n",
       "    <tr>\n",
       "      <th>21077</th>\n",
       "      <td>Noah</td>\n",
       "      <td>-1</td>\n",
       "      <td>NaN</td>\n",
       "      <td>The World</td>\n",
       "      <td>Z</td>\n",
       "      <td>2020-07-11</td>\n",
       "      <td>2020-07-11</td>\n",
       "      <td>10.0</td>\n",
       "    </tr>\n",
       "    <tr>\n",
       "      <th>21080</th>\n",
       "      <td>Mataaaaaa</td>\n",
       "      <td>-1</td>\n",
       "      <td>NaN</td>\n",
       "      <td>The World</td>\n",
       "      <td>P</td>\n",
       "      <td>2020-06-13</td>\n",
       "      <td>2020-06-13</td>\n",
       "      <td>10.0</td>\n",
       "    </tr>\n",
       "    <tr>\n",
       "      <th>21174</th>\n",
       "      <td>Teebo</td>\n",
       "      <td>-1</td>\n",
       "      <td>NaN</td>\n",
       "      <td>The World</td>\n",
       "      <td>P</td>\n",
       "      <td>2020-06-28</td>\n",
       "      <td>2020-06-28</td>\n",
       "      <td>100.0</td>\n",
       "    </tr>\n",
       "    <tr>\n",
       "      <th>21290</th>\n",
       "      <td>Gumbi</td>\n",
       "      <td>-1</td>\n",
       "      <td>NaN</td>\n",
       "      <td>The World</td>\n",
       "      <td>T</td>\n",
       "      <td>2020-06-27</td>\n",
       "      <td>2020-06-27</td>\n",
       "      <td>25.0</td>\n",
       "    </tr>\n",
       "    <tr>\n",
       "      <th>21576</th>\n",
       "      <td>Houseren</td>\n",
       "      <td>-1</td>\n",
       "      <td>NaN</td>\n",
       "      <td>The World</td>\n",
       "      <td>T</td>\n",
       "      <td>2020-08-09</td>\n",
       "      <td>2020-08-09</td>\n",
       "      <td>60.0</td>\n",
       "    </tr>\n",
       "  </tbody>\n",
       "</table>\n",
       "<p>1934 rows × 8 columns</p>\n",
       "</div>"
      ],
      "text/plain": [
       "             tag  tlpd_id birthday sc_nationality race earnings_min_date  \\\n",
       "id                                                                         \n",
       "64         Sting     3817      NaN    South Korea    T        2011-11-02   \n",
       "78        monchi     2796      NaN      The World    P        2011-07-19   \n",
       "84         TREME     3601      NaN    South Korea    P        2011-08-29   \n",
       "130         roof     3263      NaN      The World    Z        2011-07-17   \n",
       "135         ReaL     4079      NaN    South Korea    P        2011-09-27   \n",
       "...          ...      ...      ...            ...  ...               ...   \n",
       "21077       Noah       -1      NaN      The World    Z        2020-07-11   \n",
       "21080  Mataaaaaa       -1      NaN      The World    P        2020-06-13   \n",
       "21174      Teebo       -1      NaN      The World    P        2020-06-28   \n",
       "21290      Gumbi       -1      NaN      The World    T        2020-06-27   \n",
       "21576   Houseren       -1      NaN      The World    T        2020-08-09   \n",
       "\n",
       "      earnings_max_date  earnings  \n",
       "id                                 \n",
       "64           2016-06-18   15539.0  \n",
       "78           2013-05-26   20017.0  \n",
       "84           2012-07-25     584.0  \n",
       "130          2015-01-27    2206.0  \n",
       "135          2013-01-05    5402.0  \n",
       "...                 ...       ...  \n",
       "21077        2020-07-11      10.0  \n",
       "21080        2020-06-13      10.0  \n",
       "21174        2020-06-28     100.0  \n",
       "21290        2020-06-27      25.0  \n",
       "21576        2020-08-09      60.0  \n",
       "\n",
       "[1934 rows x 8 columns]"
      ]
     },
     "execution_count": 44,
     "metadata": {},
     "output_type": "execute_result"
    }
   ],
   "source": [
    "players_without_birthday"
   ]
  },
  {
   "cell_type": "markdown",
   "metadata": {},
   "source": [
    "Seeing that the percentage of players with birthday among those with earnings is much higher to those among all players (24.5% to 3.9%), we can say that the players with earnings are already \"more interesting\" from the get go.\n",
    "\n",
    "Now I will finish things up by populating the birthdays as much as possible and see if we can make another observation.\n",
    "\n",
    "One place with comprensive data for Starcraft 2 players is [tl.net](https://tl.net). Recently the website seized its API from public usage, but its search functionality in still intact. I am somewhat bound to rely on scraping and that's what I will do.\n",
    "\n",
    "The scraping itself is quite tedious as I have to load a page for individual player and scrape the birthday out of the page source. Doing to for 1934 players each for 5-10 seconds depending on good internet connection and CPU, it would take about 30 minutes. I did that beforehand into 'data/birthday.csv' file.\n",
    "\n",
    "Please checkout the provided code in _scrape.py_ file in *tools* folder. Make sure to install selenium as as our scraping tool:\n",
    "\n",
    "```cmd\n",
    "conda install -c conda-forge selenium\n",
    "```\n",
    "\n",
    "For some reason exporting the code outside the notebook gave unreliable results even with explicit wait, so I am leaving the code here for you to execute if you want. "
   ]
  },
  {
   "cell_type": "code",
   "execution_count": 45,
   "metadata": {},
   "outputs": [],
   "source": [
    "def scrape_sc2_international(driver, player_tlpd_id):\n",
    "    driver.get(\"https://tl.net/tlpd/sc2-international/players/\" + str(player_tlpd_id))\n",
    "    birthday = None\n",
    "\n",
    "    try:\n",
    "        el = driver.find_element_by_xpath(\"//div[@id='main-container']/div[@id='main-content']/div[@class='roundcont']/p[4]\")\n",
    "        text = el.get_attribute(\"innerText\")\n",
    "        text_split = re.split('(\\d{4}-\\d{2}-\\d{2})', text, 1)\n",
    "        birthday = text_split[1]\n",
    "    except Exception as e:\n",
    "        # print(\"ERROR: Cound not find birthday for \" + player_tlpd_id)\n",
    "        pass\n",
    "\n",
    "    return birthday\n",
    "\n",
    "def scrape_liquipedia(driver, player_tag):\n",
    "    driver.get(\"https://liquipedia.net/starcraft2/\" + player_tag)\n",
    "    birthday = None\n",
    "\n",
    "    try:\n",
    "        el = driver.find_element_by_xpath('//span[@class=\"bday\"]')\n",
    "        birthday = el.get_attribute(\"innerText\")\n",
    "    except Exception as e:\n",
    "        # print(\"ERROR: Cound not find birthday for \" + player_id)\n",
    "        pass\n",
    "\n",
    "    return birthday\n",
    "\n",
    "def scrape_birthdays(player_dataframe):\n",
    "    birthday_list = []\n",
    "\n",
    "    start_time = time.time()\n",
    "    driver = webdriver.Chrome(\"tools/chromedriver.exe\")\n",
    "\n",
    "    try:\n",
    "        for index, player in player_dataframe.iterrows():\n",
    "            birthday = None\n",
    "\n",
    "            if player.tlpd_id > -1:\n",
    "                birthday = scrape_sc2_international(driver, player.tlpd_id)\n",
    "\n",
    "            if birthday is None:\n",
    "                birthday = scrape_liquipedia(driver, player.tag)\n",
    "\n",
    "            birthday_list.append({ \"player_id\": index, \"tlpd_id\": player.tlpd_id, \"birthday\": birthday })\n",
    "    except Exception as e:\n",
    "        print(\"ERROR: \", e)\n",
    "\n",
    "    driver.close()\n",
    "    print(\"Finished scraping in %d\", time.time() - start_time)\n",
    "    \n",
    "    return birthday_list\n",
    "\n",
    "def exctract_birthday_csv(player_dataframe, filename):\n",
    "    birthday_list = scrape_birthdays(player_dataframe)\n",
    "\n",
    "    csv_columns = [\"player_id\", \"tlpd_id\", \"birthday\"]\n",
    "    csv_file = filename\n",
    "\n",
    "    try:\n",
    "        with open(csv_file, 'w') as csvfile:\n",
    "            writer = csv.DictWriter(csvfile, fieldnames = csv_columns)\n",
    "            writer.writeheader()\n",
    "            for data in birthday_list:\n",
    "                writer.writerow(data)\n",
    "    except IOError:\n",
    "        print(\"I/O error\")"
   ]
  },
  {
   "cell_type": "code",
   "execution_count": 46,
   "metadata": {},
   "outputs": [],
   "source": [
    "# Feel free to uncomment to execute\n",
    "# exctract_birthday_csv(players_without_birthday, filename = \"data/birthday.csv\")"
   ]
  },
  {
   "cell_type": "code",
   "execution_count": 47,
   "metadata": {},
   "outputs": [],
   "source": [
    "birthday_data = pd.read_csv(\"data/birthday.csv\", index_col = \"player_id\")"
   ]
  },
  {
   "cell_type": "code",
   "execution_count": 48,
   "metadata": {},
   "outputs": [
    {
     "data": {
      "text/html": [
       "<div>\n",
       "<style scoped>\n",
       "    .dataframe tbody tr th:only-of-type {\n",
       "        vertical-align: middle;\n",
       "    }\n",
       "\n",
       "    .dataframe tbody tr th {\n",
       "        vertical-align: top;\n",
       "    }\n",
       "\n",
       "    .dataframe thead th {\n",
       "        text-align: right;\n",
       "    }\n",
       "</style>\n",
       "<table border=\"1\" class=\"dataframe\">\n",
       "  <thead>\n",
       "    <tr style=\"text-align: right;\">\n",
       "      <th></th>\n",
       "      <th>tlpd_id</th>\n",
       "      <th>birthday</th>\n",
       "    </tr>\n",
       "    <tr>\n",
       "      <th>player_id</th>\n",
       "      <th></th>\n",
       "      <th></th>\n",
       "    </tr>\n",
       "  </thead>\n",
       "  <tbody>\n",
       "    <tr>\n",
       "      <th>64</th>\n",
       "      <td>3817</td>\n",
       "      <td>NaN</td>\n",
       "    </tr>\n",
       "    <tr>\n",
       "      <th>78</th>\n",
       "      <td>2796</td>\n",
       "      <td>NaN</td>\n",
       "    </tr>\n",
       "    <tr>\n",
       "      <th>84</th>\n",
       "      <td>3601</td>\n",
       "      <td>NaN</td>\n",
       "    </tr>\n",
       "    <tr>\n",
       "      <th>130</th>\n",
       "      <td>3263</td>\n",
       "      <td>NaN</td>\n",
       "    </tr>\n",
       "    <tr>\n",
       "      <th>135</th>\n",
       "      <td>4079</td>\n",
       "      <td>NaN</td>\n",
       "    </tr>\n",
       "  </tbody>\n",
       "</table>\n",
       "</div>"
      ],
      "text/plain": [
       "           tlpd_id birthday\n",
       "player_id                  \n",
       "64            3817      NaN\n",
       "78            2796      NaN\n",
       "84            3601      NaN\n",
       "130           3263      NaN\n",
       "135           4079      NaN"
      ]
     },
     "execution_count": 48,
     "metadata": {},
     "output_type": "execute_result"
    }
   ],
   "source": [
    "birthday_data.head()"
   ]
  },
  {
   "cell_type": "code",
   "execution_count": 49,
   "metadata": {},
   "outputs": [
    {
     "name": "stdout",
     "output_type": "stream",
     "text": [
      "There are 314 (16.2%) scraped birthdays.\n"
     ]
    }
   ],
   "source": [
    "num_birthday_data_from_csv = len(birthday_data[~birthday_data.birthday.isnull()])\n",
    "print(\"There are %d (%s) scraped birthdays.\" %\n",
    "         (num_birthday_data_from_csv,\n",
    "          \"{:.1%}\".format(num_birthday_data_from_csv / len(birthday_data))))"
   ]
  },
  {
   "cell_type": "markdown",
   "metadata": {},
   "source": [
    "Unfortunatly, not that many birthdays were recovered but will be good enough to boost the records of player with earnings and birthday."
   ]
  },
  {
   "cell_type": "code",
   "execution_count": 50,
   "metadata": {},
   "outputs": [
    {
     "name": "stdout",
     "output_type": "stream",
     "text": [
      "Update birthdays successful.\n",
      "===============\n",
      "There is a total of 941 players with earnings and birthday.\n"
     ]
    }
   ],
   "source": [
    "num_birthday_data_from_csv = len(birthday_data[~birthday_data.birthday.isnull()])\n",
    "num_players_before_update = len(players_with_earnings[~players_with_earnings.birthday.isnull()])\n",
    "\n",
    "players_with_earnings.update(birthday_data, overwrite = False)\n",
    "\n",
    "num_players_after_update = len(players_with_earnings[~players_with_earnings.birthday.isnull()])\n",
    "\n",
    "try:\n",
    "    assert num_players_after_update == num_birthday_data_from_csv + num_players_before_update\n",
    "    print(\"Update birthdays successful.\\n===============\")\n",
    "except:\n",
    "    print(\"Update error. %d != %d + %d\\n===============\" %\\\n",
    "          (num_players_after_update, num_birthday_data_from_csv, num_players_before_update))\n",
    "\n",
    "print(\"There is a total of %d players with earnings and birthday.\" % len(players_with_earnings[~players_with_earnings.birthday.isnull()]))"
   ]
  },
  {
   "cell_type": "code",
   "execution_count": 51,
   "metadata": {},
   "outputs": [],
   "source": [
    "players_with_earnings.birthday = pd.to_datetime(players_with_earnings.birthday)"
   ]
  },
  {
   "cell_type": "code",
   "execution_count": 52,
   "metadata": {},
   "outputs": [],
   "source": [
    "now = datetime.now()\n",
    "players_with_earnings[\"age\"] = players_with_earnings.birthday.apply(\n",
    "    lambda row_birthday: None if row_birthday is None else (now - row_birthday).days/(366))"
   ]
  },
  {
   "cell_type": "code",
   "execution_count": 53,
   "metadata": {},
   "outputs": [],
   "source": [
    "color_palette = ['#ff9999','#66b3ff']\n",
    "\n",
    "def plot_scatter_earnings(sc_data, byattribute, title = \"\", xlabel = \"\", show = True):\n",
    "    color_palette = ['#ff9999','#66b3ff']\n",
    "    \n",
    "    kr_earnings = sc_data[sc_data.sc_nationality == \"South Korea\"]\n",
    "    non_kr_earnings = sc_data[~(sc_data.sc_nationality == \"South Korea\")]\n",
    "    \n",
    "    plt.scatter(kr_earnings[byattribute], kr_earnings.earnings, c = color_palette[1], label = \"Korean\")\n",
    "    plt.scatter(non_kr_earnings[byattribute], non_kr_earnings.earnings, c = color_palette[0], label = \"Foreigner\")\n",
    "\n",
    "    plt.title(title)\n",
    "    plt.xlabel(xlabel)\n",
    "    plt.ylabel(\"Earnings [$]\")\n",
    "    \n",
    "    if show:\n",
    "        plt.show()"
   ]
  },
  {
   "cell_type": "code",
   "execution_count": 54,
   "metadata": {},
   "outputs": [
    {
     "data": {
      "image/png": "[encoded data removed]",
      "text/plain": [
       "<Figure size 720x432 with 1 Axes>"
      ]
     },
     "metadata": {
      "needs_background": "light"
     },
     "output_type": "display_data"
    }
   ],
   "source": [
    "plt.figure(figsize = (10, 6))\n",
    "plot_scatter_earnings(players_with_earnings, \"age\", title = \"Individual earnings by age\", xlabel = \"Age\", show = False)\n",
    "plt.legend()\n",
    "plt.show()"
   ]
  },
  {
   "cell_type": "markdown",
   "metadata": {},
   "source": [
    "What I can see at this moment, is that there are a there is a big clutter in the lower section across all ages and the highest earners are from the 22-32 age bracket.\n",
    "\n",
    "This plot does not help me a lot to analyse because prize money are earned over years and some already of these players are already retired. That is what I did by retrieving the latest and earliest match from the ```match``` dataset."
   ]
  },
  {
   "cell_type": "code",
   "execution_count": 55,
   "metadata": {},
   "outputs": [
    {
     "data": {
      "text/html": [
       "<div>\n",
       "<style scoped>\n",
       "    .dataframe tbody tr th:only-of-type {\n",
       "        vertical-align: middle;\n",
       "    }\n",
       "\n",
       "    .dataframe tbody tr th {\n",
       "        vertical-align: top;\n",
       "    }\n",
       "\n",
       "    .dataframe thead th {\n",
       "        text-align: right;\n",
       "    }\n",
       "</style>\n",
       "<table border=\"1\" class=\"dataframe\">\n",
       "  <thead>\n",
       "    <tr style=\"text-align: right;\">\n",
       "      <th></th>\n",
       "      <th>period_id</th>\n",
       "      <th>date</th>\n",
       "      <th>pla_id</th>\n",
       "      <th>plb_id</th>\n",
       "      <th>sca</th>\n",
       "      <th>scb</th>\n",
       "      <th>rca</th>\n",
       "      <th>rcb</th>\n",
       "      <th>treated</th>\n",
       "      <th>event</th>\n",
       "      <th>eventobj_id</th>\n",
       "      <th>submitter_id</th>\n",
       "      <th>game</th>\n",
       "      <th>offline</th>\n",
       "      <th>rta_id</th>\n",
       "      <th>rtb_id</th>\n",
       "    </tr>\n",
       "    <tr>\n",
       "      <th>id</th>\n",
       "      <th></th>\n",
       "      <th></th>\n",
       "      <th></th>\n",
       "      <th></th>\n",
       "      <th></th>\n",
       "      <th></th>\n",
       "      <th></th>\n",
       "      <th></th>\n",
       "      <th></th>\n",
       "      <th></th>\n",
       "      <th></th>\n",
       "      <th></th>\n",
       "      <th></th>\n",
       "      <th></th>\n",
       "      <th></th>\n",
       "      <th></th>\n",
       "    </tr>\n",
       "  </thead>\n",
       "  <tbody>\n",
       "    <tr>\n",
       "      <th>204283</th>\n",
       "      <td>168</td>\n",
       "      <td>2016-07-24</td>\n",
       "      <td>422</td>\n",
       "      <td>2102</td>\n",
       "      <td>3</td>\n",
       "      <td>1</td>\n",
       "      <td>Z</td>\n",
       "      <td>P</td>\n",
       "      <td>t</td>\n",
       "      <td>NaN</td>\n",
       "      <td>59979.0</td>\n",
       "      <td>18.0</td>\n",
       "      <td>LotV</td>\n",
       "      <td>t</td>\n",
       "      <td>5666026.0</td>\n",
       "      <td>5667543.0</td>\n",
       "    </tr>\n",
       "    <tr>\n",
       "      <th>204881</th>\n",
       "      <td>168</td>\n",
       "      <td>2016-07-31</td>\n",
       "      <td>962</td>\n",
       "      <td>12662</td>\n",
       "      <td>1</td>\n",
       "      <td>0</td>\n",
       "      <td>Z</td>\n",
       "      <td>Z</td>\n",
       "      <td>t</td>\n",
       "      <td>NaN</td>\n",
       "      <td>60184.0</td>\n",
       "      <td>18.0</td>\n",
       "      <td>LotV</td>\n",
       "      <td>f</td>\n",
       "      <td>5666535.0</td>\n",
       "      <td>5676810.0</td>\n",
       "    </tr>\n",
       "    <tr>\n",
       "      <th>204373</th>\n",
       "      <td>168</td>\n",
       "      <td>2016-07-25</td>\n",
       "      <td>61</td>\n",
       "      <td>4551</td>\n",
       "      <td>0</td>\n",
       "      <td>2</td>\n",
       "      <td>Z</td>\n",
       "      <td>Z</td>\n",
       "      <td>t</td>\n",
       "      <td>NaN</td>\n",
       "      <td>60005.0</td>\n",
       "      <td>18.0</td>\n",
       "      <td>LotV</td>\n",
       "      <td>f</td>\n",
       "      <td>5665673.0</td>\n",
       "      <td>5669668.0</td>\n",
       "    </tr>\n",
       "    <tr>\n",
       "      <th>24883</th>\n",
       "      <td>2</td>\n",
       "      <td>2010-03-13</td>\n",
       "      <td>208</td>\n",
       "      <td>1218</td>\n",
       "      <td>4</td>\n",
       "      <td>2</td>\n",
       "      <td>Z</td>\n",
       "      <td>P</td>\n",
       "      <td>t</td>\n",
       "      <td>NaN</td>\n",
       "      <td>7311.0</td>\n",
       "      <td>NaN</td>\n",
       "      <td>WoL</td>\n",
       "      <td>f</td>\n",
       "      <td>NaN</td>\n",
       "      <td>1370384.0</td>\n",
       "    </tr>\n",
       "    <tr>\n",
       "      <th>205013</th>\n",
       "      <td>168</td>\n",
       "      <td>2016-08-01</td>\n",
       "      <td>1100</td>\n",
       "      <td>10298</td>\n",
       "      <td>2</td>\n",
       "      <td>1</td>\n",
       "      <td>T</td>\n",
       "      <td>Z</td>\n",
       "      <td>t</td>\n",
       "      <td>NaN</td>\n",
       "      <td>60235.0</td>\n",
       "      <td>18.0</td>\n",
       "      <td>LotV</td>\n",
       "      <td>f</td>\n",
       "      <td>5666661.0</td>\n",
       "      <td>5674632.0</td>\n",
       "    </tr>\n",
       "  </tbody>\n",
       "</table>\n",
       "</div>"
      ],
      "text/plain": [
       "        period_id        date  pla_id  plb_id  sca  scb rca rcb treated event  \\\n",
       "id                                                                              \n",
       "204283        168  2016-07-24     422    2102    3    1   Z   P       t   NaN   \n",
       "204881        168  2016-07-31     962   12662    1    0   Z   Z       t   NaN   \n",
       "204373        168  2016-07-25      61    4551    0    2   Z   Z       t   NaN   \n",
       "24883           2  2010-03-13     208    1218    4    2   Z   P       t   NaN   \n",
       "205013        168  2016-08-01    1100   10298    2    1   T   Z       t   NaN   \n",
       "\n",
       "        eventobj_id  submitter_id  game offline     rta_id     rtb_id  \n",
       "id                                                                     \n",
       "204283      59979.0          18.0  LotV       t  5666026.0  5667543.0  \n",
       "204881      60184.0          18.0  LotV       f  5666535.0  5676810.0  \n",
       "204373      60005.0          18.0  LotV       f  5665673.0  5669668.0  \n",
       "24883        7311.0           NaN   WoL       f        NaN  1370384.0  \n",
       "205013      60235.0          18.0  LotV       f  5666661.0  5674632.0  "
      ]
     },
     "execution_count": 55,
     "metadata": {},
     "output_type": "execute_result"
    }
   ],
   "source": [
    "match_data = pd.read_csv(\"data/match.csv\", index_col = \"id\")\n",
    "match_data.head()"
   ]
  },
  {
   "cell_type": "code",
   "execution_count": 56,
   "metadata": {},
   "outputs": [],
   "source": [
    "match_data.date = pd.to_datetime(match_data.date)"
   ]
  },
  {
   "cell_type": "code",
   "execution_count": 57,
   "metadata": {},
   "outputs": [],
   "source": [
    "player_match_dates = match_data.groupby(\"pla_id\").agg({\"date\": [\"min\", \"max\"]})\n",
    "player_match_dates.columns = ['_'.join(col).strip() for col in player_match_dates.columns.values]\n",
    "player_match_dates = player_match_dates.rename({\"date_min\": \"match_min_date\", \"date_max\": \"match_max_date\"}, axis = 1)"
   ]
  },
  {
   "cell_type": "code",
   "execution_count": 58,
   "metadata": {},
   "outputs": [
    {
     "data": {
      "text/html": [
       "<div>\n",
       "<style scoped>\n",
       "    .dataframe tbody tr th:only-of-type {\n",
       "        vertical-align: middle;\n",
       "    }\n",
       "\n",
       "    .dataframe tbody tr th {\n",
       "        vertical-align: top;\n",
       "    }\n",
       "\n",
       "    .dataframe thead th {\n",
       "        text-align: right;\n",
       "    }\n",
       "</style>\n",
       "<table border=\"1\" class=\"dataframe\">\n",
       "  <thead>\n",
       "    <tr style=\"text-align: right;\">\n",
       "      <th></th>\n",
       "      <th>match_min_date</th>\n",
       "      <th>match_max_date</th>\n",
       "    </tr>\n",
       "    <tr>\n",
       "      <th>pla_id</th>\n",
       "      <th></th>\n",
       "      <th></th>\n",
       "    </tr>\n",
       "  </thead>\n",
       "  <tbody>\n",
       "    <tr>\n",
       "      <th>1</th>\n",
       "      <td>2010-10-25</td>\n",
       "      <td>2019-06-04</td>\n",
       "    </tr>\n",
       "    <tr>\n",
       "      <th>2</th>\n",
       "      <td>2011-03-27</td>\n",
       "      <td>2020-08-11</td>\n",
       "    </tr>\n",
       "    <tr>\n",
       "      <th>3</th>\n",
       "      <td>2011-07-06</td>\n",
       "      <td>2015-12-29</td>\n",
       "    </tr>\n",
       "    <tr>\n",
       "      <th>4</th>\n",
       "      <td>2011-05-18</td>\n",
       "      <td>2020-08-11</td>\n",
       "    </tr>\n",
       "    <tr>\n",
       "      <th>5</th>\n",
       "      <td>2011-07-31</td>\n",
       "      <td>2020-08-10</td>\n",
       "    </tr>\n",
       "  </tbody>\n",
       "</table>\n",
       "</div>"
      ],
      "text/plain": [
       "       match_min_date match_max_date\n",
       "pla_id                              \n",
       "1          2010-10-25     2019-06-04\n",
       "2          2011-03-27     2020-08-11\n",
       "3          2011-07-06     2015-12-29\n",
       "4          2011-05-18     2020-08-11\n",
       "5          2011-07-31     2020-08-10"
      ]
     },
     "execution_count": 58,
     "metadata": {},
     "output_type": "execute_result"
    }
   ],
   "source": [
    "player_match_dates.head()"
   ]
  },
  {
   "cell_type": "code",
   "execution_count": 59,
   "metadata": {},
   "outputs": [],
   "source": [
    "players_with_earnings = players_with_earnings.merge(player_match_dates, left_index = True, right_index = True, how = \"left\")\n",
    "players_with_earnings[\"career_years\"] = players_with_earnings.apply(\n",
    "    lambda row: None if row.match_min_date is None else (row.match_max_date - row.match_min_date).days/(366), axis = 1)"
   ]
  },
  {
   "cell_type": "code",
   "execution_count": 60,
   "metadata": {},
   "outputs": [
    {
     "data": {
      "text/html": [
       "<div>\n",
       "<style scoped>\n",
       "    .dataframe tbody tr th:only-of-type {\n",
       "        vertical-align: middle;\n",
       "    }\n",
       "\n",
       "    .dataframe tbody tr th {\n",
       "        vertical-align: top;\n",
       "    }\n",
       "\n",
       "    .dataframe thead th {\n",
       "        text-align: right;\n",
       "    }\n",
       "</style>\n",
       "<table border=\"1\" class=\"dataframe\">\n",
       "  <thead>\n",
       "    <tr style=\"text-align: right;\">\n",
       "      <th></th>\n",
       "      <th>tag</th>\n",
       "      <th>tlpd_id</th>\n",
       "      <th>birthday</th>\n",
       "      <th>sc_nationality</th>\n",
       "      <th>race</th>\n",
       "      <th>earnings_min_date</th>\n",
       "      <th>earnings_max_date</th>\n",
       "      <th>earnings</th>\n",
       "      <th>age</th>\n",
       "      <th>match_min_date</th>\n",
       "      <th>match_max_date</th>\n",
       "      <th>career_years</th>\n",
       "    </tr>\n",
       "    <tr>\n",
       "      <th>id</th>\n",
       "      <th></th>\n",
       "      <th></th>\n",
       "      <th></th>\n",
       "      <th></th>\n",
       "      <th></th>\n",
       "      <th></th>\n",
       "      <th></th>\n",
       "      <th></th>\n",
       "      <th></th>\n",
       "      <th></th>\n",
       "      <th></th>\n",
       "      <th></th>\n",
       "    </tr>\n",
       "  </thead>\n",
       "  <tbody>\n",
       "    <tr>\n",
       "      <th>1</th>\n",
       "      <td>Leenock</td>\n",
       "      <td>1971</td>\n",
       "      <td>1995-04-01</td>\n",
       "      <td>South Korea</td>\n",
       "      <td>Z</td>\n",
       "      <td>2010-11-13</td>\n",
       "      <td>2019-06-22</td>\n",
       "      <td>275579.0</td>\n",
       "      <td>25.338798</td>\n",
       "      <td>2010-10-25</td>\n",
       "      <td>2019-06-04</td>\n",
       "      <td>8.590164</td>\n",
       "    </tr>\n",
       "    <tr>\n",
       "      <th>2</th>\n",
       "      <td>Creator</td>\n",
       "      <td>2838</td>\n",
       "      <td>1997-02-23</td>\n",
       "      <td>South Korea</td>\n",
       "      <td>P</td>\n",
       "      <td>2011-05-06</td>\n",
       "      <td>2020-08-04</td>\n",
       "      <td>123741.0</td>\n",
       "      <td>23.442623</td>\n",
       "      <td>2011-03-27</td>\n",
       "      <td>2020-08-11</td>\n",
       "      <td>9.357923</td>\n",
       "    </tr>\n",
       "    <tr>\n",
       "      <th>3</th>\n",
       "      <td>Life</td>\n",
       "      <td>2747</td>\n",
       "      <td>1997-01-11</td>\n",
       "      <td>South Korea</td>\n",
       "      <td>Z</td>\n",
       "      <td>2011-07-06</td>\n",
       "      <td>2016-02-05</td>\n",
       "      <td>470559.0</td>\n",
       "      <td>23.560109</td>\n",
       "      <td>2011-07-06</td>\n",
       "      <td>2015-12-29</td>\n",
       "      <td>4.472678</td>\n",
       "    </tr>\n",
       "    <tr>\n",
       "      <th>4</th>\n",
       "      <td>DongRaeGu</td>\n",
       "      <td>2627</td>\n",
       "      <td>1991-06-03</td>\n",
       "      <td>South Korea</td>\n",
       "      <td>Z</td>\n",
       "      <td>2011-06-18</td>\n",
       "      <td>2020-08-11</td>\n",
       "      <td>258874.0</td>\n",
       "      <td>29.158470</td>\n",
       "      <td>2011-05-18</td>\n",
       "      <td>2020-08-11</td>\n",
       "      <td>9.215847</td>\n",
       "    </tr>\n",
       "    <tr>\n",
       "      <th>5</th>\n",
       "      <td>PartinG</td>\n",
       "      <td>2322</td>\n",
       "      <td>1994-08-24</td>\n",
       "      <td>South Korea</td>\n",
       "      <td>P</td>\n",
       "      <td>2011-12-07</td>\n",
       "      <td>2020-08-10</td>\n",
       "      <td>400282.0</td>\n",
       "      <td>25.939891</td>\n",
       "      <td>2011-07-31</td>\n",
       "      <td>2020-08-10</td>\n",
       "      <td>9.010929</td>\n",
       "    </tr>\n",
       "  </tbody>\n",
       "</table>\n",
       "</div>"
      ],
      "text/plain": [
       "          tag  tlpd_id   birthday sc_nationality race earnings_min_date  \\\n",
       "id                                                                        \n",
       "1     Leenock     1971 1995-04-01    South Korea    Z        2010-11-13   \n",
       "2     Creator     2838 1997-02-23    South Korea    P        2011-05-06   \n",
       "3        Life     2747 1997-01-11    South Korea    Z        2011-07-06   \n",
       "4   DongRaeGu     2627 1991-06-03    South Korea    Z        2011-06-18   \n",
       "5     PartinG     2322 1994-08-24    South Korea    P        2011-12-07   \n",
       "\n",
       "   earnings_max_date  earnings        age match_min_date match_max_date  \\\n",
       "id                                                                        \n",
       "1         2019-06-22  275579.0  25.338798     2010-10-25     2019-06-04   \n",
       "2         2020-08-04  123741.0  23.442623     2011-03-27     2020-08-11   \n",
       "3         2016-02-05  470559.0  23.560109     2011-07-06     2015-12-29   \n",
       "4         2020-08-11  258874.0  29.158470     2011-05-18     2020-08-11   \n",
       "5         2020-08-10  400282.0  25.939891     2011-07-31     2020-08-10   \n",
       "\n",
       "    career_years  \n",
       "id                \n",
       "1       8.590164  \n",
       "2       9.357923  \n",
       "3       4.472678  \n",
       "4       9.215847  \n",
       "5       9.010929  "
      ]
     },
     "execution_count": 60,
     "metadata": {},
     "output_type": "execute_result"
    }
   ],
   "source": [
    "players_with_earnings.head()"
   ]
  },
  {
   "cell_type": "code",
   "execution_count": 61,
   "metadata": {
    "scrolled": false
   },
   "outputs": [
    {
     "data": {
      "image/png": "[encoded data removed]",
      "text/plain": [
       "<Figure size 720x432 with 1 Axes>"
      ]
     },
     "metadata": {
      "needs_background": "light"
     },
     "output_type": "display_data"
    }
   ],
   "source": [
    "plt.figure(figsize = (10, 6))\n",
    "plot_scatter_earnings(\n",
    "    players_with_earnings, \"career_years\",\n",
    "    title = \"Individual earnings by career span\", xlabel = \"Years\", show = False)\n",
    "plt.legend()\n",
    "plt.show()"
   ]
  },
  {
   "cell_type": "markdown",
   "metadata": {},
   "source": [
    "This plot is more telling of earnings in the span of a professional player career. The highest earnings seem to be ones with long careers. There are of course high earnings with less experience, I can see around 6 players with earnings more than $200'000 within 3-5 year bracket (all South Korean by the way)."
   ]
  },
  {
   "cell_type": "markdown",
   "metadata": {},
   "source": [
    "### Conclusion\n",
    "\n",
    "As year pass history seems to repeate itself. But this is relevant to the industry in its entirety. There is a slow decline after the 10 mark with disruptions along the way with data seemingly to back it up.\n",
    "\n",
    "It was informative to see how South Korean players had a major role the biggest e-Sport scenes. In fact, this notion can also be seen in the biggest of all League of Legends e-Sports scene but that would be a matter for another time."
   ]
  },
  {
   "cell_type": "markdown",
   "metadata": {},
   "source": [
    "## References\n",
    "\n",
    "[1] Analysis by pstragowskipiotr: https://github.com/pstragowskipiotr/Starcraft-e-Sport-analysis\n",
    "\n",
    "[2] Aligulac databases: http://aligulac.com/about/db/\n",
    "\n",
    "[3] Article about overwatch: https://killscreen.com/themeta/pc-bangs-seoul-overwatch-reigns-supreme/\n",
    "\n",
    "[4] Liquipedia for everything Starcraft related: https://liquipedia.net/\n",
    "\n",
    "[5] Teamliquid official search engine for scraping data: https://tl.net/"
   ]
  }
 ],
 "metadata": {
  "kernelspec": {
   "display_name": "Python 3",
   "language": "python",
   "name": "python3"
  },
  "language_info": {
   "codemirror_mode": {
    "name": "ipython",
    "version": 3
   },
   "file_extension": ".py",
   "mimetype": "text/x-python",
   "name": "python",
   "nbconvert_exporter": "python",
   "pygments_lexer": "ipython3",
   "version": "3.7.6"
  }
 },
 "nbformat": 4,
 "nbformat_minor": 4
}
